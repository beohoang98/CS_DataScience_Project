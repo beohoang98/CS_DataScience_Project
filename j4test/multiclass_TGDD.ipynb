{
 "cells": [
  {
   "cell_type": "code",
   "execution_count": 360,
   "metadata": {},
   "outputs": [
    {
     "data": {
      "text/plain": [
       "<Figure size 1440x720 with 0 Axes>"
      ]
     },
     "execution_count": 360,
     "metadata": {},
     "output_type": "execute_result"
    },
    {
     "data": {
      "text/plain": [
       "<Figure size 1440x720 with 0 Axes>"
      ]
     },
     "metadata": {},
     "output_type": "display_data"
    }
   ],
   "source": [
    "%matplotlib inline\n",
    "\n",
    "import re\n",
    "import numpy as np\n",
    "import pandas as pd\n",
    "import seaborn as sns\n",
    "import matplotlib.pyplot as plt\n",
    "\n",
    "from sklearn.base import BaseEstimator, TransformerMixin\n",
    "from sklearn.compose import make_column_transformer\n",
    "from sklearn.impute import SimpleImputer\n",
    "from sklearn.pipeline import make_pipeline, Pipeline\n",
    "from sklearn.preprocessing import MultiLabelBinarizer, OneHotEncoder, StandardScaler\n",
    "from sklearn.multiclass import OneVsRestClassifier\n",
    "from sklearn.linear_model import LogisticRegression\n",
    "from sklearn.model_selection import train_test_split\n",
    "from sklearn.metrics import accuracy_score\n",
    "\n",
    "plt.figure(figsize=(20, 10))"
   ]
  },
  {
   "cell_type": "code",
   "execution_count": 94,
   "metadata": {},
   "outputs": [],
   "source": [
    "data = pd.read_csv('../crawler/tgdd_detail.csv')"
   ]
  },
  {
   "cell_type": "code",
   "execution_count": 4,
   "metadata": {},
   "outputs": [
    {
     "data": {
      "text/html": [
       "<div>\n",
       "<style scoped>\n",
       "    .dataframe tbody tr th:only-of-type {\n",
       "        vertical-align: middle;\n",
       "    }\n",
       "\n",
       "    .dataframe tbody tr th {\n",
       "        vertical-align: top;\n",
       "    }\n",
       "\n",
       "    .dataframe thead th {\n",
       "        text-align: right;\n",
       "    }\n",
       "</style>\n",
       "<table border=\"1\" class=\"dataframe\">\n",
       "  <thead>\n",
       "    <tr style=\"text-align: right;\">\n",
       "      <th></th>\n",
       "      <th>id</th>\n",
       "      <th>link</th>\n",
       "      <th>title</th>\n",
       "      <th>price</th>\n",
       "      <th>tag</th>\n",
       "      <th>cpu_tech</th>\n",
       "      <th>cpu_type</th>\n",
       "      <th>ram</th>\n",
       "      <th>disk</th>\n",
       "      <th>screen_size</th>\n",
       "      <th>resolution</th>\n",
       "      <th>graphic_card</th>\n",
       "      <th>screen_port</th>\n",
       "      <th>keyboard_light</th>\n",
       "      <th>battery</th>\n",
       "      <th>weight</th>\n",
       "      <th>review_point</th>\n",
       "      <th>review_count</th>\n",
       "      <th>brand</th>\n",
       "    </tr>\n",
       "  </thead>\n",
       "  <tbody>\n",
       "    <tr>\n",
       "      <th>0</th>\n",
       "      <td>204388</td>\n",
       "      <td>https://www.thegioididong.com/laptop/asus-gami...</td>\n",
       "      <td>Asus Gaming ROG Strix G531G i7 9750H (AL017T)</td>\n",
       "      <td>27990000</td>\n",
       "      <td>laptop-gaming</td>\n",
       "      <td>intel core i7 coffee lake</td>\n",
       "      <td>9750h</td>\n",
       "      <td>8 gb</td>\n",
       "      <td>ssd 512 gb m.2 pcie</td>\n",
       "      <td>15.6 inch</td>\n",
       "      <td>full hd (1920 x 1080)</td>\n",
       "      <td>nvidia® geforce gtx™ 1650 4gb</td>\n",
       "      <td>hdmi,</td>\n",
       "      <td>có</td>\n",
       "      <td>li - polymer 3 cell</td>\n",
       "      <td>2.4 kg</td>\n",
       "      <td>NaN</td>\n",
       "      <td>NaN</td>\n",
       "      <td>Asus</td>\n",
       "    </tr>\n",
       "    <tr>\n",
       "      <th>1</th>\n",
       "      <td>211633</td>\n",
       "      <td>https://www.thegioididong.com/laptop/asus-gami...</td>\n",
       "      <td>Asus Gaming TUF FX505D R7 3750H (AL003T)</td>\n",
       "      <td>22490000</td>\n",
       "      <td>laptop-gaming</td>\n",
       "      <td>amd ryzen 7</td>\n",
       "      <td>3750h</td>\n",
       "      <td>8 gb</td>\n",
       "      <td>ssd 512 gb m.2 pcie</td>\n",
       "      <td>15.6 inch</td>\n",
       "      <td>full hd (1920 x 1080)</td>\n",
       "      <td>nvidia® geforce gtx™ 1650 4gb</td>\n",
       "      <td>,</td>\n",
       "      <td>có</td>\n",
       "      <td>li-ion 3 cell</td>\n",
       "      <td>2.2 kg</td>\n",
       "      <td>0.0</td>\n",
       "      <td>0.0</td>\n",
       "      <td>Asus</td>\n",
       "    </tr>\n",
       "    <tr>\n",
       "      <th>2</th>\n",
       "      <td>208859</td>\n",
       "      <td>https://www.thegioididong.com/laptop/lenovo-id...</td>\n",
       "      <td>Lenovo Ideapad L340 15IRH i5 9300H (81LK00FAVN)</td>\n",
       "      <td>18490000</td>\n",
       "      <td>laptop-gaming</td>\n",
       "      <td>intel core i5 coffee lake</td>\n",
       "      <td>9300h</td>\n",
       "      <td>8 gb</td>\n",
       "      <td>hỗ trợ khe cắm ssd m.2 pcie</td>\n",
       "      <td>15.6 inch</td>\n",
       "      <td>full hd (1920 x 1080)</td>\n",
       "      <td>nvidia geforce gtx 1050, 3gb</td>\n",
       "      <td>,</td>\n",
       "      <td>có</td>\n",
       "      <td>li-ion 3 cell</td>\n",
       "      <td>2.15 kg</td>\n",
       "      <td>4.2</td>\n",
       "      <td>5.0</td>\n",
       "      <td>Lenovo</td>\n",
       "    </tr>\n",
       "    <tr>\n",
       "      <th>3</th>\n",
       "      <td>217394</td>\n",
       "      <td>https://www.thegioididong.com/laptop/lenovo-id...</td>\n",
       "      <td>Lenovo IdeaPad L340 15IRH i7 9750H (81LK00VUVN)</td>\n",
       "      <td>22490000</td>\n",
       "      <td>laptop-gaming</td>\n",
       "      <td>intel core i7 coffee lake</td>\n",
       "      <td>9750h</td>\n",
       "      <td>8 gb</td>\n",
       "      <td>ssd 512 gb m.2 pcie</td>\n",
       "      <td>15.6 inch</td>\n",
       "      <td>full hd (1920 x 1080)</td>\n",
       "      <td>nvidia geforce gtx 1050, 3gb</td>\n",
       "      <td>,</td>\n",
       "      <td>có</td>\n",
       "      <td>li-ion 3 cell</td>\n",
       "      <td>2.062 kg</td>\n",
       "      <td>NaN</td>\n",
       "      <td>NaN</td>\n",
       "      <td>Lenovo</td>\n",
       "    </tr>\n",
       "    <tr>\n",
       "      <th>4</th>\n",
       "      <td>210511</td>\n",
       "      <td>https://www.thegioididong.com/laptop/lenovo-id...</td>\n",
       "      <td>Lenovo IdeaPad L340 15IRH i7 9750H (81LK00FBVN)</td>\n",
       "      <td>21290000</td>\n",
       "      <td>laptop-gaming</td>\n",
       "      <td>intel core i7 coffee lake</td>\n",
       "      <td>9750h</td>\n",
       "      <td>8 gb</td>\n",
       "      <td>hỗ trợ khe cắm ssd m.2 pcie</td>\n",
       "      <td>15.6 inch</td>\n",
       "      <td>full hd (1920 x 1080)</td>\n",
       "      <td>nvidia geforce gtx 1050, 3gb</td>\n",
       "      <td>,</td>\n",
       "      <td>có</td>\n",
       "      <td>li-ion 3 cell</td>\n",
       "      <td>2.14 kg</td>\n",
       "      <td>NaN</td>\n",
       "      <td>NaN</td>\n",
       "      <td>Lenovo</td>\n",
       "    </tr>\n",
       "  </tbody>\n",
       "</table>\n",
       "</div>"
      ],
      "text/plain": [
       "       id                                               link  \\\n",
       "0  204388  https://www.thegioididong.com/laptop/asus-gami...   \n",
       "1  211633  https://www.thegioididong.com/laptop/asus-gami...   \n",
       "2  208859  https://www.thegioididong.com/laptop/lenovo-id...   \n",
       "3  217394  https://www.thegioididong.com/laptop/lenovo-id...   \n",
       "4  210511  https://www.thegioididong.com/laptop/lenovo-id...   \n",
       "\n",
       "                                             title     price            tag  \\\n",
       "0    Asus Gaming ROG Strix G531G i7 9750H (AL017T)  27990000  laptop-gaming   \n",
       "1         Asus Gaming TUF FX505D R7 3750H (AL003T)  22490000  laptop-gaming   \n",
       "2  Lenovo Ideapad L340 15IRH i5 9300H (81LK00FAVN)  18490000  laptop-gaming   \n",
       "3  Lenovo IdeaPad L340 15IRH i7 9750H (81LK00VUVN)  22490000  laptop-gaming   \n",
       "4  Lenovo IdeaPad L340 15IRH i7 9750H (81LK00FBVN)  21290000  laptop-gaming   \n",
       "\n",
       "                    cpu_tech cpu_type   ram                         disk  \\\n",
       "0  intel core i7 coffee lake    9750h  8 gb          ssd 512 gb m.2 pcie   \n",
       "1                amd ryzen 7    3750h  8 gb          ssd 512 gb m.2 pcie   \n",
       "2  intel core i5 coffee lake    9300h  8 gb  hỗ trợ khe cắm ssd m.2 pcie   \n",
       "3  intel core i7 coffee lake    9750h  8 gb          ssd 512 gb m.2 pcie   \n",
       "4  intel core i7 coffee lake    9750h  8 gb  hỗ trợ khe cắm ssd m.2 pcie   \n",
       "\n",
       "  screen_size             resolution                   graphic_card  \\\n",
       "0   15.6 inch  full hd (1920 x 1080)  nvidia® geforce gtx™ 1650 4gb   \n",
       "1   15.6 inch  full hd (1920 x 1080)  nvidia® geforce gtx™ 1650 4gb   \n",
       "2   15.6 inch  full hd (1920 x 1080)   nvidia geforce gtx 1050, 3gb   \n",
       "3   15.6 inch  full hd (1920 x 1080)   nvidia geforce gtx 1050, 3gb   \n",
       "4   15.6 inch  full hd (1920 x 1080)   nvidia geforce gtx 1050, 3gb   \n",
       "\n",
       "  screen_port keyboard_light              battery    weight  review_point  \\\n",
       "0       hdmi,             có  li - polymer 3 cell    2.4 kg           NaN   \n",
       "1           ,             có        li-ion 3 cell    2.2 kg           0.0   \n",
       "2           ,             có        li-ion 3 cell   2.15 kg           4.2   \n",
       "3           ,             có        li-ion 3 cell  2.062 kg           NaN   \n",
       "4           ,             có        li-ion 3 cell   2.14 kg           NaN   \n",
       "\n",
       "   review_count   brand  \n",
       "0           NaN    Asus  \n",
       "1           0.0    Asus  \n",
       "2           5.0  Lenovo  \n",
       "3           NaN  Lenovo  \n",
       "4           NaN  Lenovo  "
      ]
     },
     "execution_count": 4,
     "metadata": {},
     "output_type": "execute_result"
    }
   ],
   "source": [
    "data.head()"
   ]
  },
  {
   "cell_type": "code",
   "execution_count": 165,
   "metadata": {},
   "outputs": [
    {
     "data": {
      "text/html": [
       "<div>\n",
       "<style scoped>\n",
       "    .dataframe tbody tr th:only-of-type {\n",
       "        vertical-align: middle;\n",
       "    }\n",
       "\n",
       "    .dataframe tbody tr th {\n",
       "        vertical-align: top;\n",
       "    }\n",
       "\n",
       "    .dataframe thead th {\n",
       "        text-align: right;\n",
       "    }\n",
       "</style>\n",
       "<table border=\"1\" class=\"dataframe\">\n",
       "  <thead>\n",
       "    <tr style=\"text-align: right;\">\n",
       "      <th></th>\n",
       "      <th>id</th>\n",
       "      <th>price</th>\n",
       "      <th>tag</th>\n",
       "      <th>cpu_tech</th>\n",
       "      <th>ram</th>\n",
       "      <th>disk</th>\n",
       "      <th>screen_size</th>\n",
       "      <th>resolution</th>\n",
       "      <th>graphic_card</th>\n",
       "      <th>keyboard_light</th>\n",
       "      <th>battery</th>\n",
       "      <th>weight</th>\n",
       "      <th>brand</th>\n",
       "    </tr>\n",
       "  </thead>\n",
       "  <tbody>\n",
       "    <tr>\n",
       "      <th>0</th>\n",
       "      <td>204388</td>\n",
       "      <td>27990000</td>\n",
       "      <td>laptop-gaming</td>\n",
       "      <td>intel core i7</td>\n",
       "      <td>8</td>\n",
       "      <td>ssd 512 gb m.2 pcie</td>\n",
       "      <td>15.6 inch</td>\n",
       "      <td>full hd (1920 x 1080)</td>\n",
       "      <td>nvidia® geforce gtx™ 1650 4gb</td>\n",
       "      <td>1</td>\n",
       "      <td>li - polymer 3 cell</td>\n",
       "      <td>2.4 kg</td>\n",
       "      <td>Asus</td>\n",
       "    </tr>\n",
       "    <tr>\n",
       "      <th>1</th>\n",
       "      <td>211633</td>\n",
       "      <td>22490000</td>\n",
       "      <td>laptop-gaming</td>\n",
       "      <td>amd ryzen 7</td>\n",
       "      <td>8</td>\n",
       "      <td>ssd 512 gb m.2 pcie</td>\n",
       "      <td>15.6 inch</td>\n",
       "      <td>full hd (1920 x 1080)</td>\n",
       "      <td>nvidia® geforce gtx™ 1650 4gb</td>\n",
       "      <td>1</td>\n",
       "      <td>li-ion 3 cell</td>\n",
       "      <td>2.2 kg</td>\n",
       "      <td>Asus</td>\n",
       "    </tr>\n",
       "    <tr>\n",
       "      <th>2</th>\n",
       "      <td>208859</td>\n",
       "      <td>18490000</td>\n",
       "      <td>laptop-gaming</td>\n",
       "      <td>intel core i5</td>\n",
       "      <td>8</td>\n",
       "      <td>hỗ trợ khe cắm ssd m.2 pcie</td>\n",
       "      <td>15.6 inch</td>\n",
       "      <td>full hd (1920 x 1080)</td>\n",
       "      <td>nvidia geforce gtx 1050, 3gb</td>\n",
       "      <td>1</td>\n",
       "      <td>li-ion 3 cell</td>\n",
       "      <td>2.15 kg</td>\n",
       "      <td>Lenovo</td>\n",
       "    </tr>\n",
       "    <tr>\n",
       "      <th>3</th>\n",
       "      <td>217394</td>\n",
       "      <td>22490000</td>\n",
       "      <td>laptop-gaming</td>\n",
       "      <td>intel core i7</td>\n",
       "      <td>8</td>\n",
       "      <td>ssd 512 gb m.2 pcie</td>\n",
       "      <td>15.6 inch</td>\n",
       "      <td>full hd (1920 x 1080)</td>\n",
       "      <td>nvidia geforce gtx 1050, 3gb</td>\n",
       "      <td>1</td>\n",
       "      <td>li-ion 3 cell</td>\n",
       "      <td>2.062 kg</td>\n",
       "      <td>Lenovo</td>\n",
       "    </tr>\n",
       "    <tr>\n",
       "      <th>4</th>\n",
       "      <td>210511</td>\n",
       "      <td>21290000</td>\n",
       "      <td>laptop-gaming</td>\n",
       "      <td>intel core i7</td>\n",
       "      <td>8</td>\n",
       "      <td>hỗ trợ khe cắm ssd m.2 pcie</td>\n",
       "      <td>15.6 inch</td>\n",
       "      <td>full hd (1920 x 1080)</td>\n",
       "      <td>nvidia geforce gtx 1050, 3gb</td>\n",
       "      <td>1</td>\n",
       "      <td>li-ion 3 cell</td>\n",
       "      <td>2.14 kg</td>\n",
       "      <td>Lenovo</td>\n",
       "    </tr>\n",
       "  </tbody>\n",
       "</table>\n",
       "</div>"
      ],
      "text/plain": [
       "       id     price            tag       cpu_tech  ram  \\\n",
       "0  204388  27990000  laptop-gaming  intel core i7    8   \n",
       "1  211633  22490000  laptop-gaming    amd ryzen 7    8   \n",
       "2  208859  18490000  laptop-gaming  intel core i5    8   \n",
       "3  217394  22490000  laptop-gaming  intel core i7    8   \n",
       "4  210511  21290000  laptop-gaming  intel core i7    8   \n",
       "\n",
       "                          disk screen_size             resolution  \\\n",
       "0          ssd 512 gb m.2 pcie   15.6 inch  full hd (1920 x 1080)   \n",
       "1          ssd 512 gb m.2 pcie   15.6 inch  full hd (1920 x 1080)   \n",
       "2  hỗ trợ khe cắm ssd m.2 pcie   15.6 inch  full hd (1920 x 1080)   \n",
       "3          ssd 512 gb m.2 pcie   15.6 inch  full hd (1920 x 1080)   \n",
       "4  hỗ trợ khe cắm ssd m.2 pcie   15.6 inch  full hd (1920 x 1080)   \n",
       "\n",
       "                    graphic_card  keyboard_light              battery  \\\n",
       "0  nvidia® geforce gtx™ 1650 4gb               1  li - polymer 3 cell   \n",
       "1  nvidia® geforce gtx™ 1650 4gb               1        li-ion 3 cell   \n",
       "2   nvidia geforce gtx 1050, 3gb               1        li-ion 3 cell   \n",
       "3   nvidia geforce gtx 1050, 3gb               1        li-ion 3 cell   \n",
       "4   nvidia geforce gtx 1050, 3gb               1        li-ion 3 cell   \n",
       "\n",
       "     weight   brand  \n",
       "0    2.4 kg    Asus  \n",
       "1    2.2 kg    Asus  \n",
       "2   2.15 kg  Lenovo  \n",
       "3  2.062 kg  Lenovo  \n",
       "4   2.14 kg  Lenovo  "
      ]
     },
     "execution_count": 165,
     "metadata": {},
     "output_type": "execute_result"
    }
   ],
   "source": [
    "data_filtered = data.drop(['title', 'link', 'review_count', 'review_point', 'cpu_type', 'screen_port'], axis=1)\n",
    "\n",
    "data_filtered['ram'] = data['ram']\\\n",
    "    .fillna('0')\\\n",
    "    .apply(lambda r: int(re.sub(r'\\D+', '', r)))\n",
    "data_filtered['cpu_tech'] = data['cpu_tech']\\\n",
    "    .fillna('')\\\n",
    "    .apply(lambda cpu: re.sub(r'intel (\\w+)\\s?(\\w+)?.*', r'intel \\1 \\2', cpu.lower()))\\\n",
    "    .apply(lambda cpu: re.sub(r'amd (\\w+)\\s?(\\w+)?.*', r'amd \\1 \\2', cpu.lower()))\n",
    "\n",
    "data_filtered['keyboard_light'] = data['keyboard_light']\\\n",
    "    .apply(lambda k: 1 if k == 'có' else 0)\n",
    "\n",
    "data_filtered.head()"
   ]
  },
  {
   "cell_type": "code",
   "execution_count": null,
   "metadata": {},
   "outputs": [],
   "source": []
  },
  {
   "cell_type": "markdown",
   "metadata": {},
   "source": [
    "## preprocess resolution "
   ]
  },
  {
   "cell_type": "code",
   "execution_count": 71,
   "metadata": {},
   "outputs": [
    {
     "data": {
      "text/plain": [
       "0      full hd (1920 x 1080)\n",
       "1      full hd (1920 x 1080)\n",
       "2      full hd (1920 x 1080)\n",
       "3      full hd (1920 x 1080)\n",
       "4      full hd (1920 x 1080)\n",
       "               ...          \n",
       "247    full hd (1920 x 1080)\n",
       "248          hd (1366 x 768)\n",
       "249    full hd (1920 x 1080)\n",
       "250          hd (1366 x 768)\n",
       "251    full hd (1920 x 1080)\n",
       "Name: resolution, Length: 252, dtype: object"
      ]
     },
     "execution_count": 71,
     "metadata": {},
     "output_type": "execute_result"
    }
   ],
   "source": [
    "data['resolution']"
   ]
  },
  {
   "cell_type": "code",
   "execution_count": 166,
   "metadata": {},
   "outputs": [
    {
     "data": {
      "text/plain": [
       "0      1920 x 1080\n",
       "1      1920 x 1080\n",
       "2      1920 x 1080\n",
       "3      1920 x 1080\n",
       "4      1920 x 1080\n",
       "          ...     \n",
       "247    1920 x 1080\n",
       "248     1366 x 768\n",
       "249    1920 x 1080\n",
       "250     1366 x 768\n",
       "251    1920 x 1080\n",
       "Name: resolution, Length: 252, dtype: object"
      ]
     },
     "execution_count": 166,
     "metadata": {},
     "output_type": "execute_result"
    }
   ],
   "source": [
    "def process_resolution(r: str):\n",
    "    match = re.search(r'(\\d+ ?x ?\\d+)', r.lower())\n",
    "    if match:\n",
    "        return match.group(1)\n",
    "    return r\n",
    "\n",
    "data_filtered['resolution'] = data['resolution']\\\n",
    "    .apply(process_resolution)\n",
    "\n",
    "data_filtered['resolution']"
   ]
  },
  {
   "cell_type": "code",
   "execution_count": 128,
   "metadata": {},
   "outputs": [
    {
     "data": {
      "text/plain": [
       "<matplotlib.axes._subplots.AxesSubplot at 0x7f59cd0eb400>"
      ]
     },
     "execution_count": 128,
     "metadata": {},
     "output_type": "execute_result"
    },
    {
     "data": {
      "image/png": "[encoded data removed]",
      "text/plain": [
       "<Figure size 1152x648 with 1 Axes>"
      ]
     },
     "metadata": {
      "needs_background": "light"
     },
     "output_type": "display_data"
    }
   ],
   "source": [
    "data_filtered['resolution'].hist(bins=20, figsize=(16, 9))\n",
    "# plt.xticks(rotation=90)"
   ]
  },
  {
   "cell_type": "markdown",
   "metadata": {},
   "source": []
  },
  {
   "cell_type": "markdown",
   "metadata": {},
   "source": [
    "## GET TAGS"
   ]
  },
  {
   "cell_type": "code",
   "execution_count": 63,
   "metadata": {},
   "outputs": [],
   "source": [
    "tags = data_filtered['tag'].unique()"
   ]
  },
  {
   "cell_type": "code",
   "execution_count": 64,
   "metadata": {},
   "outputs": [
    {
     "name": "stdout",
     "output_type": "stream",
     "text": [
      "['laptop-gaming' 'do-hoa-ky-thuat' 'hoc-tap-van-phong']\n"
     ]
    }
   ],
   "source": [
    "print(tags)"
   ]
  },
  {
   "cell_type": "code",
   "execution_count": 333,
   "metadata": {},
   "outputs": [
    {
     "data": {
      "text/plain": [
       "(array([ 15.,   0.,   0.,   0.,   0.,  49.,   0.,   0.,   0., 188.]),\n",
       " array([0. , 0.2, 0.4, 0.6, 0.8, 1. , 1.2, 1.4, 1.6, 1.8, 2. ]),\n",
       " <a list of 10 Patch objects>)"
      ]
     },
     "execution_count": 333,
     "metadata": {},
     "output_type": "execute_result"
    },
    {
     "data": {
      "image/png": "[encoded data removed]",
      "text/plain": [
       "<Figure size 432x288 with 1 Axes>"
      ]
     },
     "metadata": {
      "needs_background": "light"
     },
     "output_type": "display_data"
    }
   ],
   "source": [
    "plt.hist(data_filtered['tag'])"
   ]
  },
  {
   "cell_type": "markdown",
   "metadata": {},
   "source": [
    "## GET SOME INFO EACH COLUMN"
   ]
  },
  {
   "cell_type": "code",
   "execution_count": 90,
   "metadata": {},
   "outputs": [
    {
     "name": "stdout",
     "output_type": "stream",
     "text": [
      "<class 'pandas.core.frame.DataFrame'>\n",
      "RangeIndex: 252 entries, 0 to 251\n",
      "Data columns (total 15 columns):\n",
      "id                252 non-null int64\n",
      "price             252 non-null int64\n",
      "tag               252 non-null object\n",
      "cpu_tech          252 non-null object\n",
      "cpu_type          252 non-null object\n",
      "ram               252 non-null int64\n",
      "disk              252 non-null object\n",
      "screen_size       252 non-null object\n",
      "resolution        252 non-null object\n",
      "graphic_card      252 non-null object\n",
      "screen_port       252 non-null object\n",
      "keyboard_light    252 non-null object\n",
      "battery           252 non-null object\n",
      "weight            252 non-null object\n",
      "brand             252 non-null object\n",
      "dtypes: int64(3), object(12)\n",
      "memory usage: 29.7+ KB\n"
     ]
    }
   ],
   "source": [
    "data_filtered.info()"
   ]
  },
  {
   "cell_type": "code",
   "execution_count": 129,
   "metadata": {},
   "outputs": [
    {
     "data": {
      "text/plain": [
       "array([[<matplotlib.axes._subplots.AxesSubplot object at 0x7f59ccff2c50>,\n",
       "        <matplotlib.axes._subplots.AxesSubplot object at 0x7f59ccfdbda0>],\n",
       "       [<matplotlib.axes._subplots.AxesSubplot object at 0x7f59ccfc7780>,\n",
       "        <matplotlib.axes._subplots.AxesSubplot object at 0x7f59ccf828d0>]],\n",
       "      dtype=object)"
      ]
     },
     "execution_count": 129,
     "metadata": {},
     "output_type": "execute_result"
    },
    {
     "data": {
      "image/png": "[encoded data removed]",
      "text/plain": [
       "<Figure size 1440x720 with 4 Axes>"
      ]
     },
     "metadata": {
      "needs_background": "light"
     },
     "output_type": "display_data"
    }
   ],
   "source": [
    "data_filtered.fillna(0)\n",
    "data_filtered.hist(figsize=(20, 10), bins=20)"
   ]
  },
  {
   "cell_type": "code",
   "execution_count": 92,
   "metadata": {},
   "outputs": [
    {
     "data": {
      "text/plain": [
       "([0, 1, 2, 3, 4, 5, 6, 7], <a list of 8 Text xticklabel objects>)"
      ]
     },
     "execution_count": 92,
     "metadata": {},
     "output_type": "execute_result"
    },
    {
     "data": {
      "image/png": "[encoded data removed]",
      "text/plain": [
       "<Figure size 432x288 with 1 Axes>"
      ]
     },
     "metadata": {
      "needs_background": "light"
     },
     "output_type": "display_data"
    }
   ],
   "source": [
    "data_filtered['cpu_tech'].hist(bins=20)\n",
    "plt.xticks(rotation=90)"
   ]
  },
  {
   "cell_type": "markdown",
   "metadata": {},
   "source": [
    "## JOIN TAGS"
   ]
  },
  {
   "cell_type": "code",
   "execution_count": 201,
   "metadata": {},
   "outputs": [
    {
     "name": "stdout",
     "output_type": "stream",
     "text": [
      "252\n",
      "236\n",
      "['id', 'price', 'cpu_tech', 'ram', 'disk', 'screen_size', 'resolution', 'graphic_card', 'keyboard_light', 'battery', 'weight', 'brand']\n"
     ]
    }
   ],
   "source": [
    "print (data_filtered['id'].count())\n",
    "print (len(data_filtered['id'].unique()))\n",
    "cols_without_tag = list(data_filtered.columns)\n",
    "cols_without_tag.remove('tag')\n",
    "print(cols_without_tag)"
   ]
  },
  {
   "cell_type": "code",
   "execution_count": 348,
   "metadata": {},
   "outputs": [],
   "source": [
    "data_filtered_grouped = data_filtered\\\n",
    "    .groupby(cols_without_tag, as_index=False)\\\n",
    "    .agg({'tag': list})\\\n",
    "    .drop(['id', 'price'], axis=1)"
   ]
  },
  {
   "cell_type": "code",
   "execution_count": 367,
   "metadata": {},
   "outputs": [
    {
     "data": {
      "text/html": [
       "<div>\n",
       "<style scoped>\n",
       "    .dataframe tbody tr th:only-of-type {\n",
       "        vertical-align: middle;\n",
       "    }\n",
       "\n",
       "    .dataframe tbody tr th {\n",
       "        vertical-align: top;\n",
       "    }\n",
       "\n",
       "    .dataframe thead th {\n",
       "        text-align: right;\n",
       "    }\n",
       "</style>\n",
       "<table border=\"1\" class=\"dataframe\">\n",
       "  <thead>\n",
       "    <tr style=\"text-align: right;\">\n",
       "      <th></th>\n",
       "      <th>cpu_tech</th>\n",
       "      <th>ram</th>\n",
       "      <th>disk</th>\n",
       "      <th>screen_size</th>\n",
       "      <th>resolution</th>\n",
       "      <th>graphic_card</th>\n",
       "      <th>keyboard_light</th>\n",
       "      <th>battery</th>\n",
       "      <th>weight</th>\n",
       "      <th>brand</th>\n",
       "      <th>tag</th>\n",
       "    </tr>\n",
       "  </thead>\n",
       "  <tbody>\n",
       "    <tr>\n",
       "      <th>64</th>\n",
       "      <td>intel core i5</td>\n",
       "      <td>8</td>\n",
       "      <td>ssd: 256 gb m.2 sata3</td>\n",
       "      <td>14 inch</td>\n",
       "      <td>1920 x 1080</td>\n",
       "      <td>nvidia geforce mx150, 2gb</td>\n",
       "      <td>1</td>\n",
       "      <td>li-ion 3 cell</td>\n",
       "      <td>1.4 kg</td>\n",
       "      <td>Asus</td>\n",
       "      <td>[do-hoa-ky-thuat, hoc-tap-van-phong]</td>\n",
       "    </tr>\n",
       "    <tr>\n",
       "      <th>65</th>\n",
       "      <td>intel core i7</td>\n",
       "      <td>8</td>\n",
       "      <td>intel optane 16gb</td>\n",
       "      <td>15.6 inch</td>\n",
       "      <td>1920 x 1080</td>\n",
       "      <td>nvidia geforce mx150, 2gb</td>\n",
       "      <td>1</td>\n",
       "      <td>li-ion 3 cell</td>\n",
       "      <td>1.8 kg</td>\n",
       "      <td>Asus</td>\n",
       "      <td>[do-hoa-ky-thuat, hoc-tap-van-phong]</td>\n",
       "    </tr>\n",
       "    <tr>\n",
       "      <th>85</th>\n",
       "      <td>intel core i7</td>\n",
       "      <td>8</td>\n",
       "      <td>ssd 512 gb m.2 pcie</td>\n",
       "      <td>15.6 inch</td>\n",
       "      <td>1920 x 1080</td>\n",
       "      <td>nvidia geforce mx150, 2gb</td>\n",
       "      <td>1</td>\n",
       "      <td>li-ion 3 cell</td>\n",
       "      <td>1.8 kg</td>\n",
       "      <td>Asus</td>\n",
       "      <td>[do-hoa-ky-thuat, hoc-tap-van-phong]</td>\n",
       "    </tr>\n",
       "    <tr>\n",
       "      <th>133</th>\n",
       "      <td>intel core i5</td>\n",
       "      <td>8</td>\n",
       "      <td>ssd 512 gb m.2 pcie</td>\n",
       "      <td>15.6 inch</td>\n",
       "      <td>1920 x 1080</td>\n",
       "      <td>nvidia geforce mx250 2gb</td>\n",
       "      <td>0</td>\n",
       "      <td>li - polymer 2 cell</td>\n",
       "      <td>1.6 kg</td>\n",
       "      <td>Asus</td>\n",
       "      <td>[do-hoa-ky-thuat, hoc-tap-van-phong]</td>\n",
       "    </tr>\n",
       "    <tr>\n",
       "      <th>138</th>\n",
       "      <td>intel core i7</td>\n",
       "      <td>8</td>\n",
       "      <td>ssd 512 gb m.2 pcie</td>\n",
       "      <td>15.6 inch</td>\n",
       "      <td>1920 x 1080</td>\n",
       "      <td>nvidia geforce mx230 2gb</td>\n",
       "      <td>0</td>\n",
       "      <td>li-ion 2 cell</td>\n",
       "      <td>1.9 kg</td>\n",
       "      <td>Asus</td>\n",
       "      <td>[do-hoa-ky-thuat, hoc-tap-van-phong]</td>\n",
       "    </tr>\n",
       "  </tbody>\n",
       "</table>\n",
       "</div>"
      ],
      "text/plain": [
       "          cpu_tech  ram                   disk screen_size   resolution  \\\n",
       "64   intel core i5    8  ssd: 256 gb m.2 sata3     14 inch  1920 x 1080   \n",
       "65   intel core i7    8      intel optane 16gb   15.6 inch  1920 x 1080   \n",
       "85   intel core i7    8    ssd 512 gb m.2 pcie   15.6 inch  1920 x 1080   \n",
       "133  intel core i5    8    ssd 512 gb m.2 pcie   15.6 inch  1920 x 1080   \n",
       "138  intel core i7    8    ssd 512 gb m.2 pcie   15.6 inch  1920 x 1080   \n",
       "\n",
       "                  graphic_card  keyboard_light              battery  weight  \\\n",
       "64   nvidia geforce mx150, 2gb               1        li-ion 3 cell  1.4 kg   \n",
       "65   nvidia geforce mx150, 2gb               1        li-ion 3 cell  1.8 kg   \n",
       "85   nvidia geforce mx150, 2gb               1        li-ion 3 cell  1.8 kg   \n",
       "133   nvidia geforce mx250 2gb               0  li - polymer 2 cell  1.6 kg   \n",
       "138   nvidia geforce mx230 2gb               0        li-ion 2 cell  1.9 kg   \n",
       "\n",
       "    brand                                   tag  \n",
       "64   Asus  [do-hoa-ky-thuat, hoc-tap-van-phong]  \n",
       "65   Asus  [do-hoa-ky-thuat, hoc-tap-van-phong]  \n",
       "85   Asus  [do-hoa-ky-thuat, hoc-tap-van-phong]  \n",
       "133  Asus  [do-hoa-ky-thuat, hoc-tap-van-phong]  \n",
       "138  Asus  [do-hoa-ky-thuat, hoc-tap-van-phong]  "
      ]
     },
     "execution_count": 367,
     "metadata": {},
     "output_type": "execute_result"
    }
   ],
   "source": [
    "# print (data_filtered_grouped['id'].count())\n",
    "# print (len(data_filtered_grouped['id'].unique()))\n",
    "# data_filtered_grouped\n",
    "data_filtered_grouped[data_filtered_grouped['tag'].str.len() > 1].head()"
   ]
  },
  {
   "cell_type": "markdown",
   "metadata": {},
   "source": [
    "# MULTICLASS CLASSIFICATION"
   ]
  },
  {
   "cell_type": "code",
   "execution_count": 350,
   "metadata": {},
   "outputs": [],
   "source": [
    "from sklearn.naive_bayes import MultinomialNB\n",
    "from sklearn.svm import LinearSVC\n",
    "from sklearn.linear_model import LinearRegression, SGDClassifier"
   ]
  },
  {
   "cell_type": "code",
   "execution_count": 351,
   "metadata": {},
   "outputs": [],
   "source": [
    "binarizer = MultiLabelBinarizer()\n",
    "\n",
    "X_df = data_filtered_grouped.drop('tag', axis=1)\n",
    "Y_df = binarizer.fit_transform(data_filtered_grouped.tag)\n",
    "\n",
    "(X_train, X_test, Y_train, Y_test) = train_test_split(X_df, Y_df)"
   ]
  },
  {
   "cell_type": "code",
   "execution_count": 352,
   "metadata": {},
   "outputs": [
    {
     "name": "stdout",
     "output_type": "stream",
     "text": [
      "          cpu_tech  ram                         disk screen_size   resolution  \\\n",
      "216  intel core i5    4  hỗ trợ khe cắm ssd m.2 pcie     14 inch  1920 x 1080   \n",
      "10   intel core i5    4                    hdd: 1 tb   15.6 inch  1920 x 1080   \n",
      "86   intel core i7    8          ssd 256gb nvme pcie   15.6 inch  1920 x 1080   \n",
      "22   intel core i7    4                    hdd: 1 tb   15.6 inch  1920 x 1080   \n",
      "35   intel core i7    8          ssd 256gb nvme pcie   13.3 inch  1920 x 1080   \n",
      "\n",
      "                  graphic_card  keyboard_light         battery   weight brand  \n",
      "216         intel uhd graphics               0  polymer 3 cell  1.79 kg  Dell  \n",
      "10   nvidia geforce mx130, 2gb               0   li-ion 4 cell  2.23 kg  Acer  \n",
      "86         amd radeon 520, 2gb               0   li-ion 3 cell  2.21 kg  Dell  \n",
      "22   nvidia geforce mx130, 2gb               0   li-ion 3 cell  2.07 kg    HP  \n",
      "35     intel® uhd graphics 620               1   li-ion 4 cell  1.28 kg    HP  \n"
     ]
    }
   ],
   "source": [
    "print(X_train[:5])"
   ]
  },
  {
   "cell_type": "code",
   "execution_count": 374,
   "metadata": {},
   "outputs": [],
   "source": [
    "str_cols = ['cpu_tech', 'disk', 'screen_size', 'resolution', 'graphic_card', 'battery', 'brand', 'weight']\n",
    "tag_cols = ['tag']\n",
    "num_cols = ['ram', 'keyboard_light']\n",
    "\n",
    "str_pipeline = make_pipeline(\n",
    "    make_column_transformer(\n",
    "        (OneHotEncoder(handle_unknown='ignore'), str_cols),\n",
    "        remainder='passthrough'\n",
    "    ),\n",
    "#     StandardScaler()\n",
    ")"
   ]
  },
  {
   "cell_type": "code",
   "execution_count": 375,
   "metadata": {},
   "outputs": [],
   "source": [
    "pipeline = Pipeline([\n",
    "    ('preprocess', str_pipeline),\n",
    "    ('ovr', OneVsRestClassifier(estimator=LinearRegression())),\n",
    "])"
   ]
  },
  {
   "cell_type": "code",
   "execution_count": 376,
   "metadata": {},
   "outputs": [
    {
     "name": "stdout",
     "output_type": "stream",
     "text": [
      "0.062146892655367235\n"
     ]
    },
    {
     "name": "stderr",
     "output_type": "stream",
     "text": [
      "/home/noobcoder/0_Project/school/DataAnalyst/DACK/.venv/lib/python3.6/site-packages/sklearn/svm/_base.py:947: ConvergenceWarning: Liblinear failed to converge, increase the number of iterations.\n",
      "  \"the number of iterations.\", ConvergenceWarning)\n"
     ]
    }
   ],
   "source": [
    "algos = [\n",
    "    LinearRegression(),\n",
    "    MultinomialNB(),\n",
    "    SGDClassifier(),\n",
    "    LinearSVC(),\n",
    "    PassiveAggressiveClassifier()\n",
    "]\n",
    "\n",
    "best_algo = None\n",
    "best_test_error = float('inf')\n",
    "test_errs = []\n",
    "train_errs = []\n",
    "\n",
    "for algo in algos:\n",
    "    pipeline.set_params(ovr__estimator=algo)\n",
    "    pipeline.fit(X_train, Y_train)\n",
    "    \n",
    "    Y_pred_train = pipeline.predict(X_train)\n",
    "    Y_pred_test = pipeline.predict(X_test)\n",
    "    \n",
    "    train_err = np.mean(Y_pred_train != Y_train)\n",
    "    test_err = np.mean(Y_pred_test != Y_test)\n",
    "    \n",
    "    train_errs.append(train_err)\n",
    "    test_errs.append(test_err)\n",
    "    \n",
    "    if best_test_error > test_err:\n",
    "        best_test_error = test_err\n",
    "        best_algo = algo\n",
    "        \n",
    "print(best_test_error)"
   ]
  },
  {
   "cell_type": "code",
   "execution_count": 377,
   "metadata": {},
   "outputs": [
    {
     "data": {
      "text/plain": [
       "<BarContainer object of 5 artists>"
      ]
     },
     "execution_count": 377,
     "metadata": {},
     "output_type": "execute_result"
    },
    {
     "data": {
      "image/png": "[encoded data removed]",
      "text/plain": [
       "<Figure size 432x288 with 1 Axes>"
      ]
     },
     "metadata": {
      "needs_background": "light"
     },
     "output_type": "display_data"
    }
   ],
   "source": [
    "algo_names = list(map(lambda algo: type(algo).__name__, algos))\n",
    "\n",
    "plt.barh(algo_names, test_errs)"
   ]
  },
  {
   "cell_type": "code",
   "execution_count": 378,
   "metadata": {},
   "outputs": [],
   "source": [
    "pipeline.set_params(ovr__estimator=best_algo)\n",
    "result = pipeline.predict(X_df)"
   ]
  },
  {
   "cell_type": "code",
   "execution_count": 397,
   "metadata": {},
   "outputs": [
    {
     "name": "stdout",
     "output_type": "stream",
     "text": [
      "[('do-hoa-ky-thuat',), ('hoc-tap-van-phong',), ('hoc-tap-van-phong',), ('hoc-tap-van-phong',), ('do-hoa-ky-thuat', 'hoc-tap-van-phong')]\n"
     ]
    },
    {
     "data": {
      "image/png": "[encoded data removed]",
      "text/plain": [
       "<Figure size 432x288 with 1 Axes>"
      ]
     },
     "metadata": {
      "needs_background": "light"
     },
     "output_type": "display_data"
    },
    {
     "data": {
      "image/png": "[encoded data removed]",
      "text/plain": [
       "<Figure size 432x288 with 1 Axes>"
      ]
     },
     "metadata": {
      "needs_background": "light"
     },
     "output_type": "display_data"
    }
   ],
   "source": [
    "result_label = binarizer.inverse_transform(result)\n",
    "print(result_label[:5])\n",
    "\n",
    "plt.hist(np.array([label for item in result_label for label in item]))\n",
    "plt.show()\n",
    "\n",
    "plt.hist(data['tag'])\n",
    "plt.show()"
   ]
  }
 ],
 "metadata": {
  "kernelspec": {
   "display_name": "Python 3",
   "language": "python",
   "name": "python3"
  },
  "language_info": {
   "codemirror_mode": {
    "name": "ipython",
    "version": 3
   },
   "file_extension": ".py",
   "mimetype": "text/x-python",
   "name": "python",
   "nbconvert_exporter": "python",
   "pygments_lexer": "ipython3",
   "version": "3.6.8"
  }
 },
 "nbformat": 4,
 "nbformat_minor": 4
}
