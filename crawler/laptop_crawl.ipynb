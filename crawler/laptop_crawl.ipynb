{
 "cells": [
  {
   "cell_type": "code",
   "execution_count": 2,
   "metadata": {},
   "outputs": [],
   "source": [
    "from requests_html import HTMLSession\n",
    "import pandas as pd\n",
    "import re"
   ]
  },
  {
   "cell_type": "markdown",
   "metadata": {},
   "source": [
    "## GET PRODUCT'S META INFO FUNCTION"
   ]
  },
  {
   "cell_type": "code",
   "execution_count": 3,
   "metadata": {},
   "outputs": [],
   "source": [
    "def get_products_tiki(html) -> list:\n",
    "    products_elements = html.find('.product-item')\n",
    "    product_list = list()\n",
    "\n",
    "    for product in products_elements:\n",
    "        title = product.attrs['data-title']\n",
    "        price = product.attrs['data-price']\n",
    "        brand = product.attrs['data-brand']\n",
    "        link = product.find('a', first=True).attrs['href']\n",
    "        product_list.append({\n",
    "            'title': title.strip('\\t'),\n",
    "            'brand': brand,\n",
    "            'price': price,\n",
    "            'link': link,\n",
    "        })\n",
    "\n",
    "    return product_list\n",
    "\n",
    "def get_products_detail_tiki(html) -> dict:\n",
    "    detail = {}\n",
    "    chi_tiet = html.find('#chi-tiet tbody tr')\n",
    "    for info in chi_tiet:\n",
    "        field_name = info.find('td', first=True).attrs['rel']\n",
    "        value = info.find('td.last', first=True).text.trim()\n",
    "        detail[field_name] = value\n",
    "    \n",
    "    return detail"
   ]
  },
  {
   "cell_type": "markdown",
   "metadata": {},
   "source": [
    "## CRAWL FUNCTION"
   ]
  },
  {
   "cell_type": "code",
   "execution_count": 9,
   "metadata": {},
   "outputs": [],
   "source": [
    "def crawl_tiki_laptop(output: str):\n",
    "    url = \"https://tiki.vn/laptop/c8095\"\n",
    "    session = HTMLSession()\n",
    "    products = list()\n",
    "    page = 1\n",
    "    total = 1\n",
    "\n",
    "    while True:\n",
    "        response = session.get(url, params={'page': page}, allow_redirects=True)\n",
    "        if not response.ok:\n",
    "            break;\n",
    "\n",
    "        total_text = response.html.find('.product-box [name=results-count]', first=True).text\n",
    "        total_text_number = re.findall(r'\\d+', total_text)\n",
    "        if (len(total_text_number)):\n",
    "            total = int(total_text_number[0])\n",
    "\n",
    "        products += get_products_tiki(response.html)\n",
    "        print(f\"[TIKI] Crawled page {page}\")\n",
    "        page += 1\n",
    "        if (len(products) >= total):\n",
    "            break;\n",
    "\n",
    "    df = pd.DataFrame(products, columns=['title', 'brand', 'price', 'link'])\n",
    "    df.to_csv(output)\n",
    "    \n",
    "def crawl_tiki_laptop_detail(inp: str, out: str):\n",
    "    session = HTMLSession()\n",
    "    products = pd.read_csv(inp)\n",
    "    \n",
    "    "
   ]
  },
  {
   "cell_type": "markdown",
   "metadata": {},
   "source": [
    "## BEGIN CRAWL"
   ]
  },
  {
   "cell_type": "code",
   "execution_count": 10,
   "metadata": {},
   "outputs": [
    {
     "name": "stdout",
     "output_type": "stream",
     "text": [
      "[TIKI] Crawled page 1\n",
      "[TIKI] Crawled page 2\n",
      "[TIKI] Crawled page 3\n",
      "[TIKI] Crawled page 4\n",
      "[TIKI] Crawled page 5\n",
      "[TIKI] Crawled page 6\n",
      "[TIKI] Crawled page 7\n",
      "[TIKI] Crawled page 8\n",
      "[TIKI] Crawled page 9\n",
      "[TIKI] Crawled page 10\n",
      "[TIKI] Crawled page 11\n",
      "[TIKI] Crawled page 12\n",
      "[TIKI] Crawled page 13\n",
      "[TIKI] Crawled page 14\n",
      "[TIKI] Crawled page 15\n",
      "[TIKI] Crawled page 16\n",
      "[TIKI] Crawled page 17\n",
      "[TIKI] Crawled page 18\n",
      "[TIKI] Crawled page 19\n",
      "[TIKI] Crawled page 20\n",
      "[TIKI] Crawled page 21\n",
      "[TIKI] Crawled page 22\n",
      "[TIKI] Crawled page 23\n",
      "[TIKI] Crawled page 24\n",
      "[TIKI] Crawled page 25\n",
      "[TIKI] Crawled page 26\n"
     ]
    }
   ],
   "source": [
    "crawl_tiki_laptop('tiki_meta.csv')"
   ]
  }
 ],
 "metadata": {
  "kernelspec": {
   "display_name": "Python 3",
   "language": "python",
   "name": "python3"
  },
  "language_info": {
   "codemirror_mode": {
    "name": "ipython",
    "version": 3
   },
   "file_extension": ".py",
   "mimetype": "text/x-python",
   "name": "python",
   "nbconvert_exporter": "python",
   "pygments_lexer": "ipython3",
   "version": "3.6.8"
  }
 },
 "nbformat": 4,
 "nbformat_minor": 4
}