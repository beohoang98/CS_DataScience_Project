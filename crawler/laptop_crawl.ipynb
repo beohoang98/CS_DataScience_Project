{
 "cells": [
  {
   "cell_type": "code",
   "execution_count": 3,
   "metadata": {},
   "outputs": [],
   "source": [
    "from requests_html import HTMLSession\n",
    "import pandas as pd\n",
    "import re"
   ]
  },
  {
   "cell_type": "markdown",
   "metadata": {},
   "source": [
    "## GET PRODUCT'S META INFO FUNCTION"
   ]
  },
  {
   "cell_type": "code",
   "execution_count": 7,
   "metadata": {},
   "outputs": [],
   "source": [
    "def get_products_tiki(html) -> list:\n",
    "    products_elements = html.find('.product-item')\n",
    "    product_list = list()\n",
    "\n",
    "    for product in products_elements:\n",
    "        title = product.attrs['data-title']\n",
    "        price = product.attrs['data-price']\n",
    "        brand = product.attrs['data-brand']\n",
    "        link = product.find('a', first=True).attrs['href']\n",
    "        product_list.append({\n",
    "            'title': title.strip('\\t'),\n",
    "            'brand': brand,\n",
    "            'price': price,\n",
    "            'link': link\n",
    "        })\n",
    "\n",
    "    return product_list\n",
    "\n",
    "def get_products_detail_tiki(html) -> dict:\n",
    "    detail = {}\n",
    "    chi_tiet = html.find('#chi-tiet tbody tr')\n",
    "    for info in chi_tiet:\n",
    "        field_name = info.find('td', first=True).attrs['rel']\n",
    "        value = info.find('td.last', first=True).text.strip()\n",
    "        detail[field_name] = value\n",
    "    \n",
    "    return detail"
   ]
  },
  {
   "cell_type": "markdown",
   "metadata": {},
   "source": [
    "## CRAWL FUNCTION"
   ]
  },
  {
   "cell_type": "code",
   "execution_count": 14,
   "metadata": {},
   "outputs": [],
   "source": [
    "def crawl_tiki_laptop(output: str):\n",
    "    url = \"https://tiki.vn/laptop/c8095\"\n",
    "    session = HTMLSession()\n",
    "    products = list()\n",
    "    page = 1\n",
    "    total = 1\n",
    "\n",
    "    while True:\n",
    "        response = session.get(url, params={'page': page}, allow_redirects=True)\n",
    "        if not response.ok:\n",
    "            break;\n",
    "\n",
    "        total_text = response.html.find('.product-box [name=results-count]', first=True).text\n",
    "        total_text_number = re.findall(r'\\d+', total_text)\n",
    "        if (len(total_text_number)):\n",
    "            total = int(total_text_number[0])\n",
    "\n",
    "        products += get_products_tiki(response.html)\n",
    "        print(f\"[TIKI] Crawled page {page}\")\n",
    "        page += 1\n",
    "        if (len(products) >= total):\n",
    "            break;\n",
    "\n",
    "    df = pd.DataFrame(products, columns=['title', 'brand', 'price', 'link'])\n",
    "    df.to_csv(output)\n",
    "    \n",
    "def crawl_tiki_laptop_detail(inp: str, out: str, limit: int):\n",
    "    session = HTMLSession()\n",
    "    products = pd.read_csv(inp)\n",
    "    products_detail = list()\n",
    "    \n",
    "    try:\n",
    "        for idx, row in products.iterrows():\n",
    "            link = row['link']\n",
    "            resp = session.get(link)\n",
    "            detail = get_products_detail_tiki(resp.html)\n",
    "            products_detail.append({\n",
    "                **row,\n",
    "                **detail\n",
    "            })\n",
    "            print(f\"Crawled detail {idx}: {row['title']}\")\n",
    "            if (idx >= limit):\n",
    "                break\n",
    "    except:\n",
    "        print(\"ERROR\")\n",
    "    \n",
    "    df = pd.DataFrame(products_detail)\n",
    "    df.to_csv(out)\n",
    "    "
   ]
  },
  {
   "cell_type": "markdown",
   "metadata": {},
   "source": [
    "## BEGIN CRAWL"
   ]
  },
  {
   "cell_type": "code",
   "execution_count": 10,
   "metadata": {},
   "outputs": [
    {
     "name": "stdout",
     "output_type": "stream",
     "text": [
      "[TIKI] Crawled page 1\n",
      "[TIKI] Crawled page 2\n",
      "[TIKI] Crawled page 3\n",
      "[TIKI] Crawled page 4\n",
      "[TIKI] Crawled page 5\n",
      "[TIKI] Crawled page 6\n",
      "[TIKI] Crawled page 7\n",
      "[TIKI] Crawled page 8\n",
      "[TIKI] Crawled page 9\n",
      "[TIKI] Crawled page 10\n",
      "[TIKI] Crawled page 11\n",
      "[TIKI] Crawled page 12\n",
      "[TIKI] Crawled page 13\n",
      "[TIKI] Crawled page 14\n",
      "[TIKI] Crawled page 15\n",
      "[TIKI] Crawled page 16\n",
      "[TIKI] Crawled page 17\n",
      "[TIKI] Crawled page 18\n",
      "[TIKI] Crawled page 19\n",
      "[TIKI] Crawled page 20\n",
      "[TIKI] Crawled page 21\n",
      "[TIKI] Crawled page 22\n",
      "[TIKI] Crawled page 23\n",
      "[TIKI] Crawled page 24\n",
      "[TIKI] Crawled page 25\n",
      "[TIKI] Crawled page 26\n"
     ]
    }
   ],
   "source": [
    "crawl_tiki_laptop('tiki_meta.csv')"
   ]
  },
  {
   "cell_type": "code",
   "execution_count": 15,
   "metadata": {},
   "outputs": [
    {
     "name": "stdout",
     "output_type": "stream",
     "text": [
      "Crawled detail 0: Laptop Asus Vivobook S15 S530UA-BQ034T Core i3-8130U/Win10 (15.6 inch FHD IPS) - Hàng Chính Hãng\n",
      "Crawled detail 1: Asus F570ZD FY415T AMD R5-2500U/ VGA GTX1050/ Win10 (15.6 FHD) - Hàng Chính Hãng\n",
      "Crawled detail 2: Laptop Asus ASUSPRO B9440UA-GV0495T Core i5-8250U/ Win10 (14\n",
      "Crawled detail 3: Dell Inspiron 3480-N4I5107W: i5-8265U | 4GB RAM | 1TB HDD | UHD Graphics 620 | 14.0 HD | Win10 | Silver - Hàng Chính Hãng\n",
      "Crawled detail 4: Apple Macbook Air 2019 - 13 inchs (i5/ 8GB/ 128GB) - Hàng Nhập Khẩu Chính Hãng\n",
      "Crawled detail 5: Laptop Asus Vivobook 14 A412FA-EK224T Core i5-8265U/ Win10 (14 FHD) - Hàng Chính Hãng\n",
      "Crawled detail 6: Laptop Lenovo Ideapad 130-15AST 81H5000VVN AMD A9-9425/ Win10 (15.6\n",
      "Crawled detail 7: Macbook Air 2017 MQD32 (13.3 inch) - Hàng Chính Hãng\n",
      "Crawled detail 8: Laptop HP ENVY 13-AQ0026TU (Intel Core I5-8265U  8GB RAM DDR4  256GB SSD  13,3\n",
      "Crawled detail 9: Apple Macbook Pro Touch Bar 2019 - 13 inchs (i5/ 8GB/ 128GB) - Hàng Nhập Khẩu Chính Hãng\n",
      "Crawled detail 10: Apple Macbook Air 2019 - 13 Inchs (i5/ 8GB/ 256GB) - Hàng Nhập Khẩu Chính Hãng\n",
      "Crawled detail 11: Laptop Asus Vivobook X407MA-BV043T Celeron N4000/Win10 (14 inch) - Gold - Hàng Chính Hãng\n",
      "Crawled detail 12: Macbook Air 2017 MQD32 (13.3 inch) - Nhập Khẩu Chính Hãng\n",
      "Crawled detail 13: Laptop Asus Zenbook 14 UX433FA-A6113T Core i5-8265U/ Win10/ Numpad (14\n",
      "Crawled detail 14: Laptop Asus Vivobook A512DA-EJ406T AMD R5-3500U/Win10 (15.6 FHD) - Hàng Chính Hãng\n",
      "Crawled detail 15: Laptop Lenovo IdeaPad L340-15IRH 81LK007HVN Core i5-9300H/ GTX 1050 3GB/ Dos (15.6 FHD IPS) - Hàng Chính Hãng\n",
      "Crawled detail 16: Laptop Asus TUF Gaming FX705DT-AU017T AMD R7-3750H/ GTX 1650 4GB/ Win10 (17.3\n",
      "Crawled detail 17: Apple Macbook Pro Touch Bar 2019 - 13 inchs (i5/ 8GB/ 256GB) - Hàng Nhập Khẩu Chính Hãng\n",
      "Crawled detail 18: Laptop Asus Zenbook UX433FA-A6061T Core i5-8265U/Win10 (14\n",
      "Crawled detail 19: Laptop Dell Gaming G7 7588 70183902 Core i7-8750H/ GTX1050 Ti 4GB/ Dos (15.6\n",
      "Crawled detail 20: Laptop Asus Vivobook A512DA-EJ422T AMD R5-3500U/Win10 (15.6 FHD) - Hàng Chính Hãng\n",
      "Crawled detail 21: Laptop Asus Vivobook S15 S530UN-BQ053T Core i7-8550U/Win10 (15.6 inch) (Gunmetal) - Hàng Chính Hãng\n",
      "Crawled detail 22: Laptop Asus Vivobook A412FA-EK377T Core i3-8145U/ Win10 (14 FHD) - Hàng Chính Hãng\n",
      "Crawled detail 23: Laptop Asus Vivobook A512FA-EJ440T Core i5-8265U/ Win10 (15.6 FHD) - Hàng Chính Hãng\n",
      "Crawled detail 24: Laptop Asus Vivobook A512FA-EJ1170T Core i3-8145U/ Win10 (15.6 FHD) - Hàng Chính Hãng\n",
      "Crawled detail 25: Laptop Asus Vivobook S431FA-EB077T Core i7-8565U/ Win10 (14 FHD IPS) - Hàng Chính Hãng\n",
      "Crawled detail 26: Laptop Lenovo ThinkPad E490s 20NGS01K00 Core i5-8265U/ Dos (14 FHD) - Hàng Chính Hãng \n",
      "Crawled detail 27: Laptop MSI GF63 Thin 9RCX-645VN Core i7-9750H/ GTX 1050Ti 4GB/ Win10 (15.6 FHD IPS) - Hàng Chính Hãng\n",
      "Crawled detail 28: Laptop Asus Zenbook 14 UX433FA-A6111T Core i7-8565U/ Win10/ Numpad (14\n",
      "Crawled detail 29: Laptop Lenovo Ideapad 330-14IKBR 81G2007AVN Core i5-8250U/ Dos (14 FHD) - Hàng Chính Hãng\n",
      "Crawled detail 30: Laptop Asus Vivobook X407MA-BV085T N4000/ Win10 (14 inch) - Hàng Chính Hãng\n",
      "Crawled detail 31: Laptop Asus F570ZD-FY415T AMD R5-2500U/ GTX 1050 4GB/ Win10 (15.6 FHD IPS) - Hàng Chính Hãng\n",
      "Crawled detail 32: Laptop Asus Vivobook S531FL-BQ190T Core i5-8265U/MX250 2GB/ Win10 (15.6 inch FHD IPS) - Hàng Chính Hãng\n",
      "Crawled detail 33: Laptop Asus TUF Gaming FX505DU-AL070T AMD R7-3750H/ GTX 1660Ti 6GB/ Win10 (15.6\n",
      "Crawled detail 34: Laptop Asus Zenbook 13 UX333FN-A4124T Core i5-8265U/Win10/ Numpad (13.3\n",
      "Crawled detail 35: Laptop Asus Vivobook S15 S530UA-BQ176T Core i3-8130U/Win10 (15.6 inch FHD IPS) - Hàng Chính Hãng\n",
      "Crawled detail 36: Laptop Asus X441NA-GA070T Core N4200/Win 10 14 inch - Hàng Chính Hãng\n",
      "Crawled detail 37: Laptop Asus Vivobook S14 S430UN-EB139T Core i5-8250U/Win10 (14 inch FHD IPS) - Hàng Chính Hãng\n",
      "Crawled detail 38: Laptop Lenovo Legion Y530-15ICH 81FV00STVN Core i5-8300H/Dos (15.6\n",
      "Crawled detail 39: Laptop Asus ROG Strix G G531GD-AL025T Core i5-9300H/ GTX 1050 4GB/ Win10 (15.6 FHD IPS 120Hz) - Hàng Chính Hãng\n",
      "Crawled detail 40: Laptop Asus Vivobook A412DA-EK144T AMD R5-3500U/ Win10 (14 FHD) - Hàng Chính Hãng\n",
      "Crawled detail 41: Laptop Lenovo Legion Y530-15ICH 81FV00SUVN Core i7-8750H/Dos (15.6\n",
      "Crawled detail 42: Laptop HP Envy 13-aq0027TU 6ZF43PA Core i7-8565U/ Win10 (13.3 FHD IPS) - Hàng Chính Hãng\n",
      "Crawled detail 43: Laptop Asus Vivobook S15 S530UA-BQ291T Core i5-8250U/Win10 (15.6 inch) - Hàng Chính Hãng\n",
      "Crawled detail 44: Laptop Acer Aspire 5 A515-54-54EU NX.HN3SV.002 Core i5-10210U/ Win10 (15.6 FHD) - Hàng Chính Hãng\n",
      "Crawled detail 45: Laptop HP Pavilion 15-cs2058TX 6YZ12PA Core i7-8565U/ Win10 (15.6 FHD) - Hàng Chính Hãng\n",
      "Crawled detail 46: Laptop Asus Vivobook 14 A412FA-EK155T Core i3-8145U/Win10 (14\n",
      "Crawled detail 47: Laptop Asus Zenbook 13 UX333FA-A4181T Core i5-8265U/ Win10/ Numpad (13.3 FHD) - Hàng Chính Hãng\n",
      "Crawled detail 48: Laptop Lenovo Ideapad 320-14ISK Core i3 6006U/ Win10/ 14 inch ( 80XG0083VN ) - Black - Hàng Chính Hãng\n",
      "Crawled detail 49: Laptop Lenovo IdeaPad L340-15IRH 81LK007JVN Core i7-9750H/ GTX 1050 3GB/ Dos (15.6 FHD IPS) - Hàng Chính Hãng\n",
      "Crawled detail 50: Laptop Asus TUF Gaming FX505DD-AL186T AMD R5-3550H/ GTX 1050 3GB/ Win10 (15.6\n"
     ]
    }
   ],
   "source": [
    "crawl_tiki_laptop_detail('tiki_meta.csv', 'tiki_detail.csv', limit=50)"
   ]
  }
 ],
 "metadata": {
  "kernelspec": {
   "display_name": "Python 3",
   "language": "python",
   "name": "python3"
  },
  "language_info": {
   "codemirror_mode": {
    "name": "ipython",
    "version": 3
   },
   "file_extension": ".py",
   "mimetype": "text/x-python",
   "name": "python",
   "nbconvert_exporter": "python",
   "pygments_lexer": "ipython3",
   "version": "3.6.8"
  }
 },
 "nbformat": 4,
 "nbformat_minor": 4
}
