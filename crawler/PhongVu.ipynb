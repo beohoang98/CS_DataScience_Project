{
 "cells": [
  {
   "cell_type": "code",
   "execution_count": 3,
   "metadata": {},
   "outputs": [],
   "source": [
    "from selenium import webdriver\n",
    "from selenium.webdriver.chrome.options import Options\n",
    "from selenium.webdriver.support.ui import WebDriverWait\n",
    "from selenium.webdriver.support import expected_conditions as EC\n",
    "from selenium.webdriver.common.by import By\n",
    "\n",
    "import requests\n",
    "import numpy as np\n",
    "import pandas as pd\n",
    "import re"
   ]
  },
  {
   "cell_type": "markdown",
   "metadata": {},
   "source": [
    "## Using Selenium with Chrome "
   ]
  },
  {
   "cell_type": "code",
   "execution_count": 4,
   "metadata": {},
   "outputs": [],
   "source": [
    "chrome_opts = Options()\n",
    "chrome_opts.headless = True\n",
    "\n",
    "driver = webdriver.Chrome(\n",
    "    executable_path='./driver/chromedriver',\n",
    "    options=chrome_opts\n",
    ")"
   ]
  },
  {
   "cell_type": "markdown",
   "metadata": {},
   "source": [
    "## DEFINE SOME CONST"
   ]
  },
  {
   "cell_type": "code",
   "execution_count": 5,
   "metadata": {},
   "outputs": [],
   "source": [
    "url_van_phong = \"https://phongvu.vn/laptop-van-phong-718.cat\"\n",
    "url_gaming = \"https://phongvu.vn/laptop-choi-game-716.cat\"\n",
    "url_do_hoa = \"https://phongvu.vn/laptop-do-hoa-1876.cat\""
   ]
  },
  {
   "cell_type": "markdown",
   "metadata": {},
   "source": [
    "## CRAWL FUNCTION"
   ]
  },
  {
   "cell_type": "code",
   "execution_count": 6,
   "metadata": {},
   "outputs": [],
   "source": [
    "def crawl_meta(url: str, category: str) -> list:\n",
    "    page = 1\n",
    "    max_page = 1\n",
    "    laptops = list()\n",
    "    \n",
    "    while page <= max_page:\n",
    "        driver.get(f\"{url}?p={page}\")\n",
    "        WebDriverWait(driver, 30).until(\n",
    "            EC.presence_of_element_located((By.CSS_SELECTOR, '.pagination'))\n",
    "        )\n",
    "        elements = driver.find_elements_by_css_selector(\".product-item\")\n",
    "        max_page_el = driver.find_element_by_css_selector('.pagination .v-pagination__item:last-child')\n",
    "        if (max_page_el and max_page_el.text):\n",
    "            max_page = int(max_page_el.text)\n",
    "        \n",
    "        for el in elements:\n",
    "            try:\n",
    "                sku = el.get_attribute('data-content-piece')\n",
    "                link = el.get_attribute('href')\n",
    "                name = el.find_element_by_css_selector('.product-name').text.strip()\n",
    "                \n",
    "                laptops.append({\n",
    "                    'id': sku,\n",
    "                    'link': link,\n",
    "                    'name': name,\n",
    "                    'category': category\n",
    "                })\n",
    "            except AttributeError:\n",
    "                continue\n",
    "                \n",
    "        page += 1\n",
    "\n",
    "    return laptops"
   ]
  },
  {
   "cell_type": "markdown",
   "metadata": {},
   "source": [
    "Crawl detail using PhongVu API: `https://listing.services.teko.vn/api/products/{id}?channel=pv_online&terminal=phongvu`"
   ]
  },
  {
   "cell_type": "code",
   "execution_count": 22,
   "metadata": {},
   "outputs": [],
   "source": [
    "def crawl_detail(meta: dict) -> dict:\n",
    "    id = meta.get('id')\n",
    "    resp = requests.get(f\"https://listing.services.teko.vn/api/products/{id}?channel=pv_online&terminal=phongvu\")\n",
    "    json = resp.json()\n",
    "    \n",
    "    product = json['result']['product']\n",
    "    name = product['name']\n",
    "    attributes = product['attributes']\n",
    "    \n",
    "    detail = {\n",
    "        \"name\": name\n",
    "    }\n",
    "    \n",
    "    for attr in attributes:\n",
    "        attr_name = attr['code']\n",
    "        values = attr['values']\n",
    "        value = values[0]['value'] if len(values) > 0 else None \n",
    "        field = {\n",
    "            \"laptop_dophangiaimanhinh\": \"resolution\",\n",
    "            \"laptop_tencpu\": \"cpu\",\n",
    "            \"laptop_bonhofilter\": \"ram\",\n",
    "            \"laptop_chipdohoaroi\": \"graphic\",\n",
    "            \"laptop_dungluonghddfilter\": \"disk\",\n",
    "            \"laptop_dungluongssdfilter\": \"ssd\",\n",
    "            \"laptop_dungluongpin\": \"battery\",\n",
    "            \"laptop_khoiluong\": \"weight\",\n",
    "            \"laptop_den\": \"keyboard_light\"\n",
    "        }.get(attr_name)\n",
    "        \n",
    "        if field is not None:\n",
    "            detail[field] = value\n",
    "        \n",
    "    detail.update(meta)\n",
    "    return detail"
   ]
  },
  {
   "cell_type": "markdown",
   "metadata": {},
   "source": [
    "## BẮT ĐẦU CRAWL"
   ]
  },
  {
   "cell_type": "code",
   "execution_count": 38,
   "metadata": {},
   "outputs": [],
   "source": [
    "gaming_m = crawl_meta(url_gaming, 'laptop-gaming')"
   ]
  },
  {
   "cell_type": "code",
   "execution_count": 39,
   "metadata": {},
   "outputs": [],
   "source": [
    "do_hoa_m = crawl_meta(url_do_hoa, 'do-hoa-ky-thuat')"
   ]
  },
  {
   "cell_type": "code",
   "execution_count": 40,
   "metadata": {},
   "outputs": [],
   "source": [
    "van_phong_m = crawl_meta(url_van_phong, 'hoc-tap-van-phong')"
   ]
  },
  {
   "cell_type": "code",
   "execution_count": 41,
   "metadata": {},
   "outputs": [],
   "source": [
    "laptop_m = np.concatenate((gaming_m, do_hoa_m, van_phong_m))"
   ]
  },
  {
   "cell_type": "code",
   "execution_count": 42,
   "metadata": {},
   "outputs": [
    {
     "data": {
      "text/plain": [
       "60"
      ]
     },
     "execution_count": 42,
     "metadata": {},
     "output_type": "execute_result"
    }
   ],
   "source": [
    "len(laptop_m)"
   ]
  },
  {
   "cell_type": "code",
   "execution_count": 43,
   "metadata": {},
   "outputs": [],
   "source": [
    "from multiprocessing import Pool"
   ]
  },
  {
   "cell_type": "code",
   "execution_count": 44,
   "metadata": {},
   "outputs": [],
   "source": [
    "pool = Pool(processes=8)\n",
    "detail_list = pool.map(crawl_detail, laptop_m)"
   ]
  },
  {
   "cell_type": "code",
   "execution_count": 45,
   "metadata": {},
   "outputs": [
    {
     "data": {
      "text/plain": [
       "60"
      ]
     },
     "execution_count": 45,
     "metadata": {},
     "output_type": "execute_result"
    }
   ],
   "source": [
    "len(detail_list)"
   ]
  },
  {
   "cell_type": "markdown",
   "metadata": {},
   "source": [
    "## SAVE DATA"
   ]
  },
  {
   "cell_type": "code",
   "execution_count": 46,
   "metadata": {},
   "outputs": [
    {
     "data": {
      "text/html": [
       "<div>\n",
       "<style scoped>\n",
       "    .dataframe tbody tr th:only-of-type {\n",
       "        vertical-align: middle;\n",
       "    }\n",
       "\n",
       "    .dataframe tbody tr th {\n",
       "        vertical-align: top;\n",
       "    }\n",
       "\n",
       "    .dataframe thead th {\n",
       "        text-align: right;\n",
       "    }\n",
       "</style>\n",
       "<table border=\"1\" class=\"dataframe\">\n",
       "  <thead>\n",
       "    <tr style=\"text-align: right;\">\n",
       "      <th></th>\n",
       "      <th>name</th>\n",
       "      <th>resolution</th>\n",
       "      <th>cpu</th>\n",
       "      <th>ram</th>\n",
       "      <th>graphic</th>\n",
       "      <th>ssd</th>\n",
       "      <th>disk</th>\n",
       "      <th>battery</th>\n",
       "      <th>weight</th>\n",
       "      <th>keyboard_light</th>\n",
       "      <th>id</th>\n",
       "      <th>link</th>\n",
       "      <th>category</th>\n",
       "      <th>cpu_name</th>\n",
       "      <th>cpu_type</th>\n",
       "    </tr>\n",
       "  </thead>\n",
       "  <tbody>\n",
       "    <tr>\n",
       "      <th>22</th>\n",
       "      <td>Laptop Apple MacBook Pro 2019 MV932 (15\" 2880x...</td>\n",
       "      <td>2880 x 1800</td>\n",
       "      <td>Intel Core i9</td>\n",
       "      <td>16GB</td>\n",
       "      <td>AMD Radeon Pro 560X</td>\n",
       "      <td>512GB</td>\n",
       "      <td></td>\n",
       "      <td>None</td>\n",
       "      <td>1.8</td>\n",
       "      <td>1</td>\n",
       "      <td>190900029</td>\n",
       "      <td>https://phongvu.vn/may-tinh-xach-tay-laptop-ma...</td>\n",
       "      <td>do-hoa-ky-thuat</td>\n",
       "      <td>Intel Core i9</td>\n",
       "      <td></td>\n",
       "    </tr>\n",
       "    <tr>\n",
       "      <th>39</th>\n",
       "      <td>Laptop ASUS ZenBook Duo UX481FL-BM048T (14\" FH...</td>\n",
       "      <td>1920 x 1080</td>\n",
       "      <td>Intel Core i5-10210U</td>\n",
       "      <td>8GB</td>\n",
       "      <td>NVIDIA GeForce MX250</td>\n",
       "      <td>512GB</td>\n",
       "      <td></td>\n",
       "      <td>4 cell</td>\n",
       "      <td>1.6</td>\n",
       "      <td>0</td>\n",
       "      <td>191007143</td>\n",
       "      <td>https://phongvu.vn/may-tinh-xach-tay-laptop-as...</td>\n",
       "      <td>do-hoa-ky-thuat</td>\n",
       "      <td>Intel Core i5</td>\n",
       "      <td>10210U</td>\n",
       "    </tr>\n",
       "    <tr>\n",
       "      <th>42</th>\n",
       "      <td>Laptop Lenovo Ideapad S145-15IWL (81MV00F1VN) ...</td>\n",
       "      <td>1920 x 1080</td>\n",
       "      <td>Intel Celeron 4205U</td>\n",
       "      <td>4GB</td>\n",
       "      <td></td>\n",
       "      <td></td>\n",
       "      <td>500GB</td>\n",
       "      <td>2 cell</td>\n",
       "      <td>1.9</td>\n",
       "      <td>0</td>\n",
       "      <td>190800714</td>\n",
       "      <td>https://phongvu.vn/may-tinh-xach-tay-laptop-le...</td>\n",
       "      <td>hoc-tap-van-phong</td>\n",
       "      <td>Intel Celeron 4205U</td>\n",
       "      <td>4205U</td>\n",
       "    </tr>\n",
       "    <tr>\n",
       "      <th>59</th>\n",
       "      <td>Laptop Acer Aspire 3 A315-54K-32SD (NX.HFXSV.0...</td>\n",
       "      <td>1920 x 1080</td>\n",
       "      <td>Intel Core i3-7020U</td>\n",
       "      <td>4GB</td>\n",
       "      <td></td>\n",
       "      <td>256GB</td>\n",
       "      <td></td>\n",
       "      <td>2 cell</td>\n",
       "      <td>1.7</td>\n",
       "      <td>0</td>\n",
       "      <td>191000364</td>\n",
       "      <td>https://phongvu.vn/may-tinh-xach-tay-laptop-ac...</td>\n",
       "      <td>hoc-tap-van-phong</td>\n",
       "      <td>Intel Core i3</td>\n",
       "      <td>7020U</td>\n",
       "    </tr>\n",
       "    <tr>\n",
       "      <th>48</th>\n",
       "      <td>Laptop ASUS 14 X409UA-EK092T (14\" FHD/i3-7020U...</td>\n",
       "      <td>1920 x 1080</td>\n",
       "      <td>Intel Core i3-7020U</td>\n",
       "      <td>4GB</td>\n",
       "      <td></td>\n",
       "      <td></td>\n",
       "      <td>1TB</td>\n",
       "      <td>2 cell</td>\n",
       "      <td>1.6</td>\n",
       "      <td>0</td>\n",
       "      <td>190900033</td>\n",
       "      <td>https://phongvu.vn/may-tinh-xach-tay-laptop-as...</td>\n",
       "      <td>hoc-tap-van-phong</td>\n",
       "      <td>Intel Core i3</td>\n",
       "      <td>7020U</td>\n",
       "    </tr>\n",
       "  </tbody>\n",
       "</table>\n",
       "</div>"
      ],
      "text/plain": [
       "                                                 name   resolution  \\\n",
       "22  Laptop Apple MacBook Pro 2019 MV932 (15\" 2880x...  2880 x 1800   \n",
       "39  Laptop ASUS ZenBook Duo UX481FL-BM048T (14\" FH...  1920 x 1080   \n",
       "42  Laptop Lenovo Ideapad S145-15IWL (81MV00F1VN) ...  1920 x 1080   \n",
       "59  Laptop Acer Aspire 3 A315-54K-32SD (NX.HFXSV.0...  1920 x 1080   \n",
       "48  Laptop ASUS 14 X409UA-EK092T (14\" FHD/i3-7020U...  1920 x 1080   \n",
       "\n",
       "                     cpu   ram               graphic    ssd   disk battery  \\\n",
       "22         Intel Core i9  16GB   AMD Radeon Pro 560X  512GB           None   \n",
       "39  Intel Core i5-10210U   8GB  NVIDIA GeForce MX250  512GB         4 cell   \n",
       "42   Intel Celeron 4205U   4GB                               500GB  2 cell   \n",
       "59   Intel Core i3-7020U   4GB                        256GB         2 cell   \n",
       "48   Intel Core i3-7020U   4GB                                 1TB  2 cell   \n",
       "\n",
       "   weight  keyboard_light         id  \\\n",
       "22    1.8               1  190900029   \n",
       "39    1.6               0  191007143   \n",
       "42    1.9               0  190800714   \n",
       "59    1.7               0  191000364   \n",
       "48    1.6               0  190900033   \n",
       "\n",
       "                                                 link           category  \\\n",
       "22  https://phongvu.vn/may-tinh-xach-tay-laptop-ma...    do-hoa-ky-thuat   \n",
       "39  https://phongvu.vn/may-tinh-xach-tay-laptop-as...    do-hoa-ky-thuat   \n",
       "42  https://phongvu.vn/may-tinh-xach-tay-laptop-le...  hoc-tap-van-phong   \n",
       "59  https://phongvu.vn/may-tinh-xach-tay-laptop-ac...  hoc-tap-van-phong   \n",
       "48  https://phongvu.vn/may-tinh-xach-tay-laptop-as...  hoc-tap-van-phong   \n",
       "\n",
       "               cpu_name cpu_type  \n",
       "22        Intel Core i9           \n",
       "39        Intel Core i5   10210U  \n",
       "42  Intel Celeron 4205U    4205U  \n",
       "59        Intel Core i3    7020U  \n",
       "48        Intel Core i3    7020U  "
      ]
     },
     "execution_count": 46,
     "metadata": {},
     "output_type": "execute_result"
    }
   ],
   "source": [
    "df: pd.DataFrame = pd.DataFrame(detail_list)\n",
    "df = df.replace(to_replace=\"KHT\", value=\"\")\n",
    "df['keyboard_light'] = df['keyboard_light'].apply(lambda k: 1 if k in ['RGB', 'LED'] else 0)\n",
    "\n",
    "def get_cpu_name(cpu: str):\n",
    "    split = cpu.split('-')\n",
    "    if len(split) < 2:\n",
    "        return re.sub(r'\\d+H', '', cpu)\n",
    "    return split[0]\n",
    "def get_cpu_type(cpu: str):\n",
    "    split = cpu.split('-')\n",
    "    if len(split) > 1:\n",
    "        return split[1]\n",
    "    search = re.search(r'(\\d+[HU])', split[0])\n",
    "    return search.group(1) if search else ''\n",
    "\n",
    "df['cpu_name'] = df['cpu'].apply(get_cpu_name)\n",
    "df['cpu_type'] = df['cpu'].apply(get_cpu_type)\n",
    "\n",
    "df.to_csv('phong_vu.csv', index=False)\n",
    "df.sort_values('cpu_type').head(5)"
   ]
  }
 ],
 "metadata": {
  "kernelspec": {
   "display_name": "Python 3",
   "language": "python",
   "name": "python3"
  },
  "language_info": {
   "codemirror_mode": {
    "name": "ipython",
    "version": 3
   },
   "file_extension": ".py",
   "mimetype": "text/x-python",
   "name": "python",
   "nbconvert_exporter": "python",
   "pygments_lexer": "ipython3",
   "version": "3.6.8"
  }
 },
 "nbformat": 4,
 "nbformat_minor": 4
}
