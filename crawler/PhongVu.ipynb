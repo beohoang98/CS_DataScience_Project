{
 "cells": [
  {
   "cell_type": "code",
   "execution_count": 48,
   "metadata": {},
   "outputs": [],
   "source": [
    "from selenium import webdriver\n",
    "from selenium.webdriver.chrome.options import Options\n",
    "from selenium.webdriver.support.ui import WebDriverWait\n",
    "from selenium.webdriver.support import expected_conditions as EC\n",
    "from selenium.webdriver.common.by import By\n",
    "\n",
    "import requests\n",
    "import numpy as np\n",
    "import pandas as pd"
   ]
  },
  {
   "cell_type": "markdown",
   "metadata": {},
   "source": [
    "## Using Selenium with Chrome "
   ]
  },
  {
   "cell_type": "code",
   "execution_count": 21,
   "metadata": {},
   "outputs": [],
   "source": [
    "chrome_opts = Options()\n",
    "chrome_opts.headless = True\n",
    "driver = webdriver.Chrome(\n",
    "    executable_path='./driver/chromedriver',\n",
    "    options=chrome_opts\n",
    ")"
   ]
  },
  {
   "cell_type": "markdown",
   "metadata": {},
   "source": [
    "## DEFINE SOME CONST"
   ]
  },
  {
   "cell_type": "code",
   "execution_count": 6,
   "metadata": {},
   "outputs": [],
   "source": [
    "url_van_phong = \"https://phongvu.vn/laptop-van-phong-718.cat\"\n",
    "url_gaming = \"https://phongvu.vn/laptop-choi-game-716.cat\"\n",
    "url_do_hoa = \"https://phongvu.vn/laptop-do-hoa-1876.cat\""
   ]
  },
  {
   "cell_type": "markdown",
   "metadata": {},
   "source": [
    "## CRAWL FUNCTION"
   ]
  },
  {
   "cell_type": "code",
   "execution_count": 19,
   "metadata": {},
   "outputs": [],
   "source": [
    "def crawl_meta(url: str, category: str) -> list:\n",
    "    page = 1\n",
    "    max_page = 1\n",
    "    laptops = list()\n",
    "    \n",
    "    while page <= max_page:\n",
    "        driver.get(f\"{url}?p={page}\")\n",
    "        WebDriverWait(driver, 30).until(\n",
    "            EC.presence_of_element_located((By.CSS_SELECTOR, '.pagination'))\n",
    "        )\n",
    "        elements = driver.find_elements_by_css_selector(\".product-item\")\n",
    "        max_page_el = driver.find_element_by_css_selector('.pagination .v-pagination__item:last-child')\n",
    "        if (max_page_el and max_page_el.text):\n",
    "            max_page = int(max_page_el.text)\n",
    "        \n",
    "        for el in elements:\n",
    "            try:\n",
    "                sku = el.get_attribute('data-content-piece')\n",
    "                link = el.get_attribute('href')\n",
    "                name = el.find_element_by_css_selector('.product-name').text.strip()\n",
    "                \n",
    "                laptops.append({\n",
    "                    'id': sku,\n",
    "                    'link': link,\n",
    "                    'name': name,\n",
    "                    'category': category\n",
    "                })\n",
    "            except AttributeError:\n",
    "                continue\n",
    "                \n",
    "        page += 1\n",
    "\n",
    "    return laptops"
   ]
  },
  {
   "cell_type": "markdown",
   "metadata": {},
   "source": [
    "Crawl detail using PhongVu API: `https://listing.services.teko.vn/api/products/{id}?channel=pv_online&terminal=phongvu`"
   ]
  },
  {
   "cell_type": "code",
   "execution_count": 42,
   "metadata": {},
   "outputs": [],
   "source": [
    "def crawl_detail(meta: dict) -> dict:\n",
    "    id = meta.get('id')\n",
    "    resp = requests.get(f\"https://listing.services.teko.vn/api/products/{id}?channel=pv_online&terminal=phongvu\")\n",
    "    json = resp.json()\n",
    "    \n",
    "    product = json['result']['product']\n",
    "    name = product['name']\n",
    "    attributes = product['attributes']\n",
    "    \n",
    "    detail = {\n",
    "        \"name\": name\n",
    "    }\n",
    "    \n",
    "    for attr in attributes:\n",
    "        attr_name = attr['code']\n",
    "        values = attr['values']\n",
    "        value = values[0]['value'] if len(values) > 0 else None \n",
    "        field = {\n",
    "            \"laptop_dophangiaimanhinh\": \"resolution\",\n",
    "            \"laptop_tencpu\": \"cpu\",\n",
    "            \"laptop_bonhofilter\": \"ram\",\n",
    "            \"laptop_chipdohoaroi\": \"graphic\",\n",
    "            \"laptop_dungluonghddfilter\": \"disk\",\n",
    "            \"laptop_dungluongssdfilter\": \"ssd\",\n",
    "            \"laptop_dungluongpin\": \"battery\",\n",
    "            \"laptop_khoiluong\": \"weight\",\n",
    "            \"laptop_den\": \"keyboard_light\"\n",
    "        }.get(attr_name)\n",
    "        \n",
    "        if field is not None:\n",
    "            if field == \"cpu\":\n",
    "                cpu_split = value.split('-')\n",
    "                detail['cpu_name'] = cpu_split[0] if len(cpu_split) > 0 else ''\n",
    "                detail['cpu_type'] = cpu_split[1] if len(cpu_split) > 1 else ''\n",
    "            else:\n",
    "                detail[field] = value\n",
    "        \n",
    "    detail.update(meta)\n",
    "    return detail"
   ]
  },
  {
   "cell_type": "markdown",
   "metadata": {},
   "source": [
    "## BẮT ĐẦU CRAWL"
   ]
  },
  {
   "cell_type": "code",
   "execution_count": 22,
   "metadata": {},
   "outputs": [],
   "source": [
    "gaming_m = crawl_meta(url_gaming, 'gaming')"
   ]
  },
  {
   "cell_type": "code",
   "execution_count": 23,
   "metadata": {},
   "outputs": [],
   "source": [
    "do_hoa_m = crawl_meta(url_do_hoa, 'do-hoa')"
   ]
  },
  {
   "cell_type": "code",
   "execution_count": 24,
   "metadata": {},
   "outputs": [],
   "source": [
    "van_phong_m = crawl_meta(url_van_phong, 'van-phong')"
   ]
  },
  {
   "cell_type": "code",
   "execution_count": 25,
   "metadata": {},
   "outputs": [],
   "source": [
    "laptop_m = np.concatenate((gaming_m, do_hoa_m, van_phong_m))"
   ]
  },
  {
   "cell_type": "code",
   "execution_count": 33,
   "metadata": {},
   "outputs": [
    {
     "data": {
      "text/plain": [
       "60"
      ]
     },
     "execution_count": 33,
     "metadata": {},
     "output_type": "execute_result"
    }
   ],
   "source": [
    "len(laptop_m)"
   ]
  },
  {
   "cell_type": "code",
   "execution_count": 30,
   "metadata": {},
   "outputs": [],
   "source": [
    "from multiprocessing import Pool"
   ]
  },
  {
   "cell_type": "code",
   "execution_count": 43,
   "metadata": {},
   "outputs": [],
   "source": [
    "pool = Pool(processes=8)\n",
    "detail_list = pool.map(crawl_detail, laptop_m)"
   ]
  },
  {
   "cell_type": "code",
   "execution_count": 47,
   "metadata": {},
   "outputs": [
    {
     "data": {
      "text/plain": [
       "60"
      ]
     },
     "execution_count": 47,
     "metadata": {},
     "output_type": "execute_result"
    }
   ],
   "source": [
    "len(detail_list)"
   ]
  },
  {
   "cell_type": "markdown",
   "metadata": {},
   "source": [
    "## SAVE DATA"
   ]
  },
  {
   "cell_type": "code",
   "execution_count": 55,
   "metadata": {},
   "outputs": [
    {
     "data": {
      "text/html": [
       "<div>\n",
       "<style scoped>\n",
       "    .dataframe tbody tr th:only-of-type {\n",
       "        vertical-align: middle;\n",
       "    }\n",
       "\n",
       "    .dataframe tbody tr th {\n",
       "        vertical-align: top;\n",
       "    }\n",
       "\n",
       "    .dataframe thead th {\n",
       "        text-align: right;\n",
       "    }\n",
       "</style>\n",
       "<table border=\"1\" class=\"dataframe\">\n",
       "  <thead>\n",
       "    <tr style=\"text-align: right;\">\n",
       "      <th></th>\n",
       "      <th>name</th>\n",
       "      <th>resolution</th>\n",
       "      <th>cpu_name</th>\n",
       "      <th>cpu_type</th>\n",
       "      <th>ram</th>\n",
       "      <th>graphic</th>\n",
       "      <th>ssd</th>\n",
       "      <th>disk</th>\n",
       "      <th>battery</th>\n",
       "      <th>weight</th>\n",
       "      <th>keyboard_light</th>\n",
       "      <th>id</th>\n",
       "      <th>link</th>\n",
       "    </tr>\n",
       "  </thead>\n",
       "  <tbody>\n",
       "    <tr>\n",
       "      <th>0</th>\n",
       "      <td>Laptop ASUS ROG Strix Scar III G531GV-VAZ160T ...</td>\n",
       "      <td>1920 x 1080</td>\n",
       "      <td>Intel Core i7</td>\n",
       "      <td>9750H</td>\n",
       "      <td>16GB</td>\n",
       "      <td>NVIDIA GeForce RTX 2060</td>\n",
       "      <td>512GB</td>\n",
       "      <td></td>\n",
       "      <td>4 cell</td>\n",
       "      <td>2.6</td>\n",
       "      <td>1</td>\n",
       "      <td>190800596</td>\n",
       "      <td>https://phongvu.vn/may-tinh-xach-tay-laptop-as...</td>\n",
       "    </tr>\n",
       "    <tr>\n",
       "      <th>1</th>\n",
       "      <td>Laptop ASUS ROG Zephyrus M GU502GU-AZ090T (15\"...</td>\n",
       "      <td>1920 x 1080</td>\n",
       "      <td>Intel Core i7</td>\n",
       "      <td>9750H</td>\n",
       "      <td>16GB</td>\n",
       "      <td>NVIDIA GeForce GTX 1660Ti</td>\n",
       "      <td>512GB</td>\n",
       "      <td></td>\n",
       "      <td>4 cell</td>\n",
       "      <td>2</td>\n",
       "      <td>1</td>\n",
       "      <td>190800597</td>\n",
       "      <td>https://phongvu.vn/may-tinh-xach-tay-laptop-as...</td>\n",
       "    </tr>\n",
       "    <tr>\n",
       "      <th>2</th>\n",
       "      <td>Laptop HP Pavilion Gaming 15-dk0003TX (7HR34PA...</td>\n",
       "      <td>1920 x 1080</td>\n",
       "      <td>Intel Core i7</td>\n",
       "      <td>9750H</td>\n",
       "      <td>16GB</td>\n",
       "      <td>NVIDIA GeForce GTX 1660Ti</td>\n",
       "      <td>512GB</td>\n",
       "      <td>1TB</td>\n",
       "      <td>3 cell</td>\n",
       "      <td>2.2</td>\n",
       "      <td>0</td>\n",
       "      <td>190900035</td>\n",
       "      <td>https://phongvu.vn/may-tinh-xach-tay-laptop-hp...</td>\n",
       "    </tr>\n",
       "    <tr>\n",
       "      <th>3</th>\n",
       "      <td>Laptop HP Pavilion Gaming 15-dk0233TX (8DS86PA...</td>\n",
       "      <td>1920 x 1080</td>\n",
       "      <td>Intel Core i7</td>\n",
       "      <td>9750H</td>\n",
       "      <td>8GB</td>\n",
       "      <td>NVIDIA GeForce GTX 1650</td>\n",
       "      <td>512GB</td>\n",
       "      <td></td>\n",
       "      <td>3 cell</td>\n",
       "      <td>2.2</td>\n",
       "      <td>0</td>\n",
       "      <td>190900036</td>\n",
       "      <td>https://phongvu.vn/may-tinh-xach-tay-laptop-hp...</td>\n",
       "    </tr>\n",
       "    <tr>\n",
       "      <th>4</th>\n",
       "      <td>Laptop HP Pavilion Gaming 15-dk0232TX (8DS85PA...</td>\n",
       "      <td>1920 x 1080</td>\n",
       "      <td>Intel Core i7</td>\n",
       "      <td>9750H</td>\n",
       "      <td>8GB</td>\n",
       "      <td>NVIDIA GeForce GTX 1650</td>\n",
       "      <td></td>\n",
       "      <td>1TB</td>\n",
       "      <td>3 cell</td>\n",
       "      <td>2.2</td>\n",
       "      <td>0</td>\n",
       "      <td>190900037</td>\n",
       "      <td>https://phongvu.vn/may-tinh-xach-tay-laptop-hp...</td>\n",
       "    </tr>\n",
       "  </tbody>\n",
       "</table>\n",
       "</div>"
      ],
      "text/plain": [
       "                                                name   resolution  \\\n",
       "0  Laptop ASUS ROG Strix Scar III G531GV-VAZ160T ...  1920 x 1080   \n",
       "1  Laptop ASUS ROG Zephyrus M GU502GU-AZ090T (15\"...  1920 x 1080   \n",
       "2  Laptop HP Pavilion Gaming 15-dk0003TX (7HR34PA...  1920 x 1080   \n",
       "3  Laptop HP Pavilion Gaming 15-dk0233TX (8DS86PA...  1920 x 1080   \n",
       "4  Laptop HP Pavilion Gaming 15-dk0232TX (8DS85PA...  1920 x 1080   \n",
       "\n",
       "        cpu_name cpu_type   ram                    graphic    ssd disk  \\\n",
       "0  Intel Core i7    9750H  16GB    NVIDIA GeForce RTX 2060  512GB        \n",
       "1  Intel Core i7    9750H  16GB  NVIDIA GeForce GTX 1660Ti  512GB        \n",
       "2  Intel Core i7    9750H  16GB  NVIDIA GeForce GTX 1660Ti  512GB  1TB   \n",
       "3  Intel Core i7    9750H   8GB    NVIDIA GeForce GTX 1650  512GB        \n",
       "4  Intel Core i7    9750H   8GB    NVIDIA GeForce GTX 1650         1TB   \n",
       "\n",
       "  battery weight  keyboard_light         id  \\\n",
       "0  4 cell    2.6               1  190800596   \n",
       "1  4 cell      2               1  190800597   \n",
       "2  3 cell    2.2               0  190900035   \n",
       "3  3 cell    2.2               0  190900036   \n",
       "4  3 cell    2.2               0  190900037   \n",
       "\n",
       "                                                link  \n",
       "0  https://phongvu.vn/may-tinh-xach-tay-laptop-as...  \n",
       "1  https://phongvu.vn/may-tinh-xach-tay-laptop-as...  \n",
       "2  https://phongvu.vn/may-tinh-xach-tay-laptop-hp...  \n",
       "3  https://phongvu.vn/may-tinh-xach-tay-laptop-hp...  \n",
       "4  https://phongvu.vn/may-tinh-xach-tay-laptop-hp...  "
      ]
     },
     "execution_count": 55,
     "metadata": {},
     "output_type": "execute_result"
    }
   ],
   "source": [
    "df: pd.DataFrame = pd.DataFrame(detail_list)\n",
    "df = df.replace(to_replace=\"KHT\", value=\"\")\n",
    "df['keyboard_light'] = df['keyboard_light'].apply(lambda k: 1 if k in ['RGB', 'LED'] else 0)\n",
    "df.to_csv('phong_vu.csv', index=False)\n",
    "df.head()"
   ]
  }
 ],
 "metadata": {
  "kernelspec": {
   "display_name": "Python 3",
   "language": "python",
   "name": "python3"
  },
  "language_info": {
   "codemirror_mode": {
    "name": "ipython",
    "version": 3
   },
   "file_extension": ".py",
   "mimetype": "text/x-python",
   "name": "python",
   "nbconvert_exporter": "python",
   "pygments_lexer": "ipython3",
   "version": "3.6.8"
  }
 },
 "nbformat": 4,
 "nbformat_minor": 4
}
