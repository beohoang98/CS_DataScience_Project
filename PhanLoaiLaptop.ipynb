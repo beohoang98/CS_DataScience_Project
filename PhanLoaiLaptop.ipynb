{
 "cells": [
  {
   "cell_type": "markdown",
   "metadata": {},
   "source": [
    "# PHÂN LOẠI LAPTOP DỰA THEO CÁC THÔNG SỐ CHO TRƯỚC"
   ]
  },
  {
   "cell_type": "markdown",
   "metadata": {},
   "source": [
    "## Thành viên\n",
    "\n",
    "- **1612001**: Hoàng Dân An\n",
    "\n",
    "- **1612165**: Nguyễn Đào Vinh Hải\n"
   ]
  },
  {
   "cell_type": "markdown",
   "metadata": {},
   "source": [
    "## Bài Toán\n",
    "\n",
    "Dựa vào các thông số cho trước của laptop:\n",
    "\n",
    "1. RAM\n",
    "\n",
    "2. CPU Chipset (exp Intel Core i7, AMD Ryzen, ...)\n",
    "\n",
    "3. Dòng CPU (9750H)\n",
    "    \n",
    "3. Dung dượng ổ cứng\n",
    "\n",
    "4. Card đồ họa rời (exp: Nvidia, AMD, ...)\n",
    "\n",
    "5. Có SSD hay không?\n",
    "\n",
    "6. Độ phân giải màn hình (exp: 1920x1080, ...)\n",
    "\n",
    "7. Khối lượng\n",
    "\n",
    "\n",
    "Để phân loại laptop này theo 3 loại:\n",
    "\n",
    "1. Gaming (chơi game)\n",
    "\n",
    "2. Học tập - Văn phòng\n",
    "\n",
    "3. Đồ họa (thiết kế, render video/image)\n"
   ]
  },
  {
   "cell_type": "markdown",
   "metadata": {},
   "source": [
    "## Ứng dụng\n",
    "\n",
    "- Phân loại laptop để tăng hiệu của của công cụ tìm kiếm\n",
    "\n",
    "- Tăng hiệu quả quảng cáo\n"
   ]
  },
  {
   "cell_type": "markdown",
   "metadata": {},
   "source": [
    "## Dữ liệu"
   ]
  },
  {
   "cell_type": "markdown",
   "metadata": {},
   "source": [
    "### Nguồn:\n",
    "\n",
    "Crawl từ 3 nguồn:\n",
    "\n",
    "- phongvu.vn\n",
    "\n",
    "- thegioididong.com\n",
    "\n",
    "- nguyenkim.com\n",
    "\n",
    "Các dữ liệu này đã được phân loại sẵn (theo 3 phân loại trên ), nên chúng em sẽ dùng để làm dữ liệu train và test\n",
    "\n",
    "### Hình thức crawl:\n",
    "\n",
    "- `Nguyễn Kim` crawl bằng cách parse HTML\n",
    "\n",
    "- `Phong Vũ` và `Thế giới di động` crawl bằng crawl-bot sử dựng [Selenium](https://selenium.dev/) trên python\n",
    "\n",
    "<details>\n",
    "    <summary>Tính hợp pháp</summary>\n",
    "    Hiện tại chúng em có tài liệu về tính hợp pháp\n",
    "</details>\n"
   ]
  },
  {
   "cell_type": "markdown",
   "metadata": {},
   "source": [
    "Sau khi crawl, dữ liệu sẽ được merge thành một file là `Merge.csv'"
   ]
  },
  {
   "cell_type": "code",
   "execution_count": 7,
   "metadata": {},
   "outputs": [],
   "source": [
    "%matplotlib inline\n",
    "import numpy as np\n",
    "import pandas as pd\n",
    "import matplotlib.pyplot as plt"
   ]
  },
  {
   "cell_type": "code",
   "execution_count": 3,
   "metadata": {},
   "outputs": [],
   "source": [
    "data = pd.read_csv('./crawler/Merge.csv')"
   ]
  },
  {
   "cell_type": "code",
   "execution_count": 5,
   "metadata": {},
   "outputs": [
    {
     "name": "stdout",
     "output_type": "stream",
     "text": [
      "<class 'pandas.core.frame.DataFrame'>\n",
      "RangeIndex: 590 entries, 0 to 589\n",
      "Data columns (total 12 columns):\n",
      "battery           311 non-null object\n",
      "category          590 non-null object\n",
      "cpu_name          586 non-null object\n",
      "cpu_type          585 non-null object\n",
      "disk              278 non-null object\n",
      "graphic           554 non-null object\n",
      "keyboard_light    60 non-null float64\n",
      "name              590 non-null object\n",
      "ram               312 non-null object\n",
      "resolution        60 non-null object\n",
      "ssd               579 non-null object\n",
      "weight            548 non-null object\n",
      "dtypes: float64(1), object(11)\n",
      "memory usage: 55.4+ KB\n"
     ]
    }
   ],
   "source": [
    "data.info()"
   ]
  },
  {
   "cell_type": "code",
   "execution_count": 33,
   "metadata": {},
   "outputs": [
    {
     "data": {
      "text/html": [
       "<div>\n",
       "<style scoped>\n",
       "    .dataframe tbody tr th:only-of-type {\n",
       "        vertical-align: middle;\n",
       "    }\n",
       "\n",
       "    .dataframe tbody tr th {\n",
       "        vertical-align: top;\n",
       "    }\n",
       "\n",
       "    .dataframe thead th {\n",
       "        text-align: right;\n",
       "    }\n",
       "</style>\n",
       "<table border=\"1\" class=\"dataframe\">\n",
       "  <thead>\n",
       "    <tr style=\"text-align: right;\">\n",
       "      <th></th>\n",
       "      <th>battery</th>\n",
       "      <th>category</th>\n",
       "      <th>cpu_name</th>\n",
       "      <th>cpu_type</th>\n",
       "      <th>disk</th>\n",
       "      <th>graphic</th>\n",
       "      <th>keyboard_light</th>\n",
       "      <th>name</th>\n",
       "      <th>ram</th>\n",
       "      <th>resolution</th>\n",
       "      <th>ssd</th>\n",
       "      <th>weight</th>\n",
       "    </tr>\n",
       "  </thead>\n",
       "  <tbody>\n",
       "    <tr>\n",
       "      <th>0</th>\n",
       "      <td>li - polymer 3 cell</td>\n",
       "      <td>laptop-gaming</td>\n",
       "      <td>intel core i7 coffee lake</td>\n",
       "      <td>9750h</td>\n",
       "      <td>NaN</td>\n",
       "      <td>nvidia® geforce gtx™ 1650 4gb</td>\n",
       "      <td>NaN</td>\n",
       "      <td>Asus Gaming ROG Strix G531G i7 9750H (AL017T)</td>\n",
       "      <td>8 gb</td>\n",
       "      <td>NaN</td>\n",
       "      <td>1</td>\n",
       "      <td>2.4 kg</td>\n",
       "    </tr>\n",
       "    <tr>\n",
       "      <th>1</th>\n",
       "      <td>li-ion 3 cell</td>\n",
       "      <td>laptop-gaming</td>\n",
       "      <td>amd ryzen 7</td>\n",
       "      <td>3750h</td>\n",
       "      <td>NaN</td>\n",
       "      <td>nvidia® geforce gtx™ 1650 4gb</td>\n",
       "      <td>NaN</td>\n",
       "      <td>Asus Gaming TUF FX505D R7 3750H (AL003T)</td>\n",
       "      <td>8 gb</td>\n",
       "      <td>NaN</td>\n",
       "      <td>1</td>\n",
       "      <td>2.2 kg</td>\n",
       "    </tr>\n",
       "    <tr>\n",
       "      <th>2</th>\n",
       "      <td>li-ion 3 cell</td>\n",
       "      <td>laptop-gaming</td>\n",
       "      <td>intel core i5 coffee lake</td>\n",
       "      <td>9300h</td>\n",
       "      <td>NaN</td>\n",
       "      <td>nvidia geforce gtx 1050, 3gb</td>\n",
       "      <td>NaN</td>\n",
       "      <td>Lenovo Ideapad L340 15IRH i5 9300H (81LK00FAVN)</td>\n",
       "      <td>8 gb</td>\n",
       "      <td>NaN</td>\n",
       "      <td>0</td>\n",
       "      <td>2.15 kg</td>\n",
       "    </tr>\n",
       "    <tr>\n",
       "      <th>3</th>\n",
       "      <td>li-ion 3 cell</td>\n",
       "      <td>laptop-gaming</td>\n",
       "      <td>intel core i7 coffee lake</td>\n",
       "      <td>9750h</td>\n",
       "      <td>NaN</td>\n",
       "      <td>nvidia geforce gtx 1050, 3gb</td>\n",
       "      <td>NaN</td>\n",
       "      <td>Lenovo IdeaPad L340 15IRH i7 9750H (81LK00VUVN)</td>\n",
       "      <td>8 gb</td>\n",
       "      <td>NaN</td>\n",
       "      <td>1</td>\n",
       "      <td>2.062 kg</td>\n",
       "    </tr>\n",
       "    <tr>\n",
       "      <th>4</th>\n",
       "      <td>li-ion 3 cell</td>\n",
       "      <td>laptop-gaming</td>\n",
       "      <td>intel core i7 coffee lake</td>\n",
       "      <td>9750h</td>\n",
       "      <td>NaN</td>\n",
       "      <td>nvidia geforce gtx 1050, 3gb</td>\n",
       "      <td>NaN</td>\n",
       "      <td>Lenovo IdeaPad L340 15IRH i7 9750H (81LK00FBVN)</td>\n",
       "      <td>8 gb</td>\n",
       "      <td>NaN</td>\n",
       "      <td>0</td>\n",
       "      <td>2.14 kg</td>\n",
       "    </tr>\n",
       "  </tbody>\n",
       "</table>\n",
       "</div>"
      ],
      "text/plain": [
       "               battery       category                   cpu_name cpu_type  \\\n",
       "0  li - polymer 3 cell  laptop-gaming  intel core i7 coffee lake    9750h   \n",
       "1        li-ion 3 cell  laptop-gaming                amd ryzen 7    3750h   \n",
       "2        li-ion 3 cell  laptop-gaming  intel core i5 coffee lake    9300h   \n",
       "3        li-ion 3 cell  laptop-gaming  intel core i7 coffee lake    9750h   \n",
       "4        li-ion 3 cell  laptop-gaming  intel core i7 coffee lake    9750h   \n",
       "\n",
       "  disk                        graphic  keyboard_light  \\\n",
       "0  NaN  nvidia® geforce gtx™ 1650 4gb             NaN   \n",
       "1  NaN  nvidia® geforce gtx™ 1650 4gb             NaN   \n",
       "2  NaN   nvidia geforce gtx 1050, 3gb             NaN   \n",
       "3  NaN   nvidia geforce gtx 1050, 3gb             NaN   \n",
       "4  NaN   nvidia geforce gtx 1050, 3gb             NaN   \n",
       "\n",
       "                                              name   ram resolution ssd  \\\n",
       "0    Asus Gaming ROG Strix G531G i7 9750H (AL017T)  8 gb        NaN   1   \n",
       "1         Asus Gaming TUF FX505D R7 3750H (AL003T)  8 gb        NaN   1   \n",
       "2  Lenovo Ideapad L340 15IRH i5 9300H (81LK00FAVN)  8 gb        NaN   0   \n",
       "3  Lenovo IdeaPad L340 15IRH i7 9750H (81LK00VUVN)  8 gb        NaN   1   \n",
       "4  Lenovo IdeaPad L340 15IRH i7 9750H (81LK00FBVN)  8 gb        NaN   0   \n",
       "\n",
       "     weight  \n",
       "0    2.4 kg  \n",
       "1    2.2 kg  \n",
       "2   2.15 kg  \n",
       "3  2.062 kg  \n",
       "4   2.14 kg  "
      ]
     },
     "execution_count": 33,
     "metadata": {},
     "output_type": "execute_result"
    }
   ],
   "source": [
    "data.head()"
   ]
  },
  {
   "cell_type": "markdown",
   "metadata": {},
   "source": [
    "## KHẢO SÁT DỮ LIỆU"
   ]
  },
  {
   "cell_type": "code",
   "execution_count": 16,
   "metadata": {},
   "outputs": [
    {
     "data": {
      "text/plain": [
       "<matplotlib.axes._subplots.AxesSubplot at 0x7fdbf40857b8>"
      ]
     },
     "execution_count": 16,
     "metadata": {},
     "output_type": "execute_result"
    },
    {
     "data": {
      "image/png": "[encoded data removed]",
      "text/plain": [
       "<Figure size 432x288 with 1 Axes>"
      ]
     },
     "metadata": {
      "needs_background": "light"
     },
     "output_type": "display_data"
    }
   ],
   "source": [
    "data['battery'].hist()"
   ]
  },
  {
   "cell_type": "markdown",
   "metadata": {},
   "source": [
    "**Cột battery chúng em đã bỏ ra vì có quá nhiều giá trị và không phân loại được**"
   ]
  },
  {
   "cell_type": "code",
   "execution_count": 22,
   "metadata": {},
   "outputs": [
    {
     "data": {
      "text/plain": [
       "<matplotlib.axes._subplots.AxesSubplot at 0x7fdbef616ba8>"
      ]
     },
     "execution_count": 22,
     "metadata": {},
     "output_type": "execute_result"
    },
    {
     "data": {
      "image/png": "[encoded data removed]",
      "text/plain": [
       "<Figure size 432x288 with 1 Axes>"
      ]
     },
     "metadata": {
      "needs_background": "light"
     },
     "output_type": "display_data"
    }
   ],
   "source": [
    "data['keyboard_light'].fillna(-1).hist()"
   ]
  },
  {
   "cell_type": "markdown",
   "metadata": {},
   "source": [
    "**Cột keyboard light bỏ ra vì có quá nhiều giá trị thiếu**"
   ]
  },
  {
   "cell_type": "code",
   "execution_count": 35,
   "metadata": {},
   "outputs": [
    {
     "data": {
      "image/png": "[encoded data removed]",
      "text/plain": [
       "<Figure size 432x288 with 1 Axes>"
      ]
     },
     "metadata": {
      "needs_background": "light"
     },
     "output_type": "display_data"
    }
   ],
   "source": [
    "data['disk'].fillna('nan').hist()\n",
    "plt.xticks(rotation=90)\n",
    "plt.show()"
   ]
  },
  {
   "cell_type": "markdown",
   "metadata": {},
   "source": [
    "Vì cột có nhiều giá trị khác nhau ở vị trí lẻ, nên ta sẽ làm tròn lại"
   ]
  },
  {
   "cell_type": "code",
   "execution_count": 76,
   "metadata": {},
   "outputs": [
    {
     "data": {
      "image/png": "[encoded data removed]",
      "text/plain": [
       "<Figure size 1152x648 with 1 Axes>"
      ]
     },
     "metadata": {
      "needs_background": "light"
     },
     "output_type": "display_data"
    }
   ],
   "source": [
    "data['weight'].fillna('NAN').hist(figsize=(16, 9))\n",
    "plt.xticks(rotation=90)\n",
    "plt.show()"
   ]
  },
  {
   "cell_type": "markdown",
   "metadata": {},
   "source": [
    "Ở cột khối lượng có nhiều giá trị lẻ và có chuỗi đơn vị nên chúng em sẽ bỏ đơn vị và làm tròn số kg.\n",
    "\n",
    "**VD**: \n",
    "\n",
    "- 1.5kg -> 2\n",
    "\n",
    "- 2.3 -> 2"
   ]
  },
  {
   "cell_type": "code",
   "execution_count": 32,
   "metadata": {},
   "outputs": [
    {
     "data": {
      "text/plain": [
       "<matplotlib.axes._subplots.AxesSubplot at 0x7fdbe43e44e0>"
      ]
     },
     "execution_count": 32,
     "metadata": {},
     "output_type": "execute_result"
    },
    {
     "data": {
      "image/png": "[encoded data removed]",
      "text/plain": [
       "<Figure size 432x288 with 1 Axes>"
      ]
     },
     "metadata": {
      "needs_background": "light"
     },
     "output_type": "display_data"
    }
   ],
   "source": [
    "data['resolution'].fillna('nan').hist()"
   ]
  },
  {
   "cell_type": "markdown",
   "metadata": {},
   "source": [
    "Ở cột độ phân giải, ta có quá nhiều giá trị thiếu, giá trị có thì độ phân giải khác cao, nên ta sẽ quyết định bỏ cột này đi "
   ]
  },
  {
   "cell_type": "code",
   "execution_count": 99,
   "metadata": {},
   "outputs": [
    {
     "data": {
      "image/png": "[encoded data removed]",
      "text/plain": [
       "<Figure size 1152x648 with 1 Axes>"
      ]
     },
     "metadata": {
      "needs_background": "light"
     },
     "output_type": "display_data"
    }
   ],
   "source": [
    "data['graphic'].hist(figsize=(16, 9))\n",
    "plt.xticks(rotation=90)\n",
    "plt.show()"
   ]
  },
  {
   "cell_type": "markdown",
   "metadata": {},
   "source": [
    "Ở cột graphic, ta sẽ lấy thông tin hãng (NVIDIA, AMD, Intel) và số tương ứng (có từ 3 số trở lên)"
   ]
  },
  {
   "cell_type": "code",
   "execution_count": 115,
   "metadata": {},
   "outputs": [
    {
     "data": {
      "text/plain": [
       "<matplotlib.axes._subplots.AxesSubplot at 0x7fdbdb2f3518>"
      ]
     },
     "execution_count": 115,
     "metadata": {},
     "output_type": "execute_result"
    },
    {
     "data": {
      "image/png": "[encoded data removed]",
      "text/plain": [
       "<Figure size 432x288 with 1 Axes>"
      ]
     },
     "metadata": {
      "needs_background": "light"
     },
     "output_type": "display_data"
    }
   ],
   "source": [
    "data['ram'].fillna('nan').hist()"
   ]
  },
  {
   "cell_type": "markdown",
   "metadata": {},
   "source": [
    "## TIỀN XỬ LÝ"
   ]
  },
  {
   "cell_type": "code",
   "execution_count": 177,
   "metadata": {},
   "outputs": [],
   "source": [
    "from sklearn.base import BaseEstimator, TransformerMixin\n",
    "from sklearn.pipeline import Pipeline, make_pipeline\n",
    "from sklearn.compose import make_column_transformer\n",
    "from sklearn.preprocessing import OneHotEncoder, MultiLabelBinarizer, StandardScaler\n",
    "from sklearn.impute import SimpleImputer\n",
    "\n",
    "import re\n",
    "import math"
   ]
  },
  {
   "cell_type": "code",
   "execution_count": 169,
   "metadata": {},
   "outputs": [],
   "source": [
    "class UnitRemoverAndSimpler(BaseEstimator, TransformerMixin):\n",
    "    def fit(self, *_):\n",
    "        return self\n",
    "    \n",
    "    def transform(self, data: pd.DataFrame) -> pd.DataFrame:\n",
    "        df = data.drop(['resolution', 'battery', 'keyboard_light'], axis=1)\n",
    "        df['disk'] = data['disk'].apply(self.process_disk)\n",
    "        df['weight'] = data['weight'].apply(self.process_weight)\n",
    "        df['graphic'] = data['graphic'].fillna('intel').apply(self.process_graphic)\n",
    "        df['ram'] = data['ram'].fillna('0').apply(lambda r: int(re.sub(f'\\D+', '', r)))\n",
    "        df['ssd'] = data['ssd'].fillna(0).apply(lambda ssd: 1 if ssd != 0 else 0)\n",
    "        \n",
    "        group_cols = list(df.columns)\n",
    "        group_cols.remove('category')\n",
    "        \n",
    "        df_unique = df.groupby(by=group_cols, as_index=False)\\\n",
    "            .agg({'category': set})\\\n",
    "            .reset_index()\n",
    "        \n",
    "        return df_unique.drop(['name', 'index'], axis=1)\n",
    "        \n",
    "    def process_disk(self, disk: str):\n",
    "        if not disk:\n",
    "            return disk\n",
    "        search = re.search(r'(\\d+)\\s?([mgt]b).*', str(disk).lower())\n",
    "        if search:\n",
    "            value = int(search.group(1))\n",
    "            unit = search.group(2)\n",
    "            if unit == 'mb':\n",
    "                return value / 2\n",
    "            if unit == 'gb':\n",
    "                return value\n",
    "            if unit == 'tb':\n",
    "                return value * 1024\n",
    "            return value\n",
    "        return np.nan\n",
    "    \n",
    "    def process_weight(self, w: str):\n",
    "        w = re.sub(r'[^\\.\\,0-9]', '', str(w))\n",
    "        if w == '':\n",
    "            return 0\n",
    "        w = re.sub(',', '.', w)\n",
    "        w = float(w)\n",
    "        w = int(round(w))\n",
    "        return w\n",
    "    \n",
    "    def process_graphic(self, g: str):\n",
    "        brand = 'intel'\n",
    "        g = g.lower()\n",
    "        if 'nvidia' in g or 'geforce' in g or 'gtx' in g:\n",
    "            brand = 'nvidia'\n",
    "        elif 'amd' in g or 'radeon' in g:\n",
    "            brand = 'amd'\n",
    "        \n",
    "        number = ''\n",
    "        number_s = re.search(r'(\\d{3,})', g)\n",
    "        if (number_s):\n",
    "            number = int(number_s.group(1))\n",
    "            number = ' ' + str(math.floor(number / 100) * 100)\n",
    "            \n",
    "        return f'{brand}{number}'"
   ]
  },
  {
   "cell_type": "code",
   "execution_count": 170,
   "metadata": {},
   "outputs": [
    {
     "data": {
      "text/html": [
       "<div>\n",
       "<style scoped>\n",
       "    .dataframe tbody tr th:only-of-type {\n",
       "        vertical-align: middle;\n",
       "    }\n",
       "\n",
       "    .dataframe tbody tr th {\n",
       "        vertical-align: top;\n",
       "    }\n",
       "\n",
       "    .dataframe thead th {\n",
       "        text-align: right;\n",
       "    }\n",
       "</style>\n",
       "<table border=\"1\" class=\"dataframe\">\n",
       "  <thead>\n",
       "    <tr style=\"text-align: right;\">\n",
       "      <th></th>\n",
       "      <th>cpu_name</th>\n",
       "      <th>cpu_type</th>\n",
       "      <th>disk</th>\n",
       "      <th>graphic</th>\n",
       "      <th>ram</th>\n",
       "      <th>ssd</th>\n",
       "      <th>weight</th>\n",
       "      <th>category</th>\n",
       "    </tr>\n",
       "  </thead>\n",
       "  <tbody>\n",
       "    <tr>\n",
       "      <th>0</th>\n",
       "      <td>AMD Quad Core</td>\n",
       "      <td>R5-3500U</td>\n",
       "      <td>256.0</td>\n",
       "      <td>nvidia 1000</td>\n",
       "      <td>0</td>\n",
       "      <td>1</td>\n",
       "      <td>0</td>\n",
       "      <td>{hoc-tap-van-phong}</td>\n",
       "    </tr>\n",
       "    <tr>\n",
       "      <th>1</th>\n",
       "      <td>AMD Ryzen™ 3</td>\n",
       "      <td>3200U</td>\n",
       "      <td>256.0</td>\n",
       "      <td>amd</td>\n",
       "      <td>0</td>\n",
       "      <td>1</td>\n",
       "      <td>0</td>\n",
       "      <td>{hoc-tap-van-phong, do-hoa-ky-thuat}</td>\n",
       "    </tr>\n",
       "    <tr>\n",
       "      <th>2</th>\n",
       "      <td>AMD Ryzen™ 5</td>\n",
       "      <td>2500U</td>\n",
       "      <td>1024.0</td>\n",
       "      <td>amd</td>\n",
       "      <td>0</td>\n",
       "      <td>1</td>\n",
       "      <td>2</td>\n",
       "      <td>{hoc-tap-van-phong}</td>\n",
       "    </tr>\n",
       "    <tr>\n",
       "      <th>3</th>\n",
       "      <td>AMD Ryzen™ 5</td>\n",
       "      <td>3500U</td>\n",
       "      <td>256.0</td>\n",
       "      <td>intel</td>\n",
       "      <td>0</td>\n",
       "      <td>1</td>\n",
       "      <td>1</td>\n",
       "      <td>{hoc-tap-van-phong, do-hoa-ky-thuat}</td>\n",
       "    </tr>\n",
       "    <tr>\n",
       "      <th>4</th>\n",
       "      <td>AMD Ryzen™ 5</td>\n",
       "      <td>3500U</td>\n",
       "      <td>256.0</td>\n",
       "      <td>intel</td>\n",
       "      <td>0</td>\n",
       "      <td>1</td>\n",
       "      <td>2</td>\n",
       "      <td>{hoc-tap-van-phong}</td>\n",
       "    </tr>\n",
       "    <tr>\n",
       "      <th>...</th>\n",
       "      <td>...</td>\n",
       "      <td>...</td>\n",
       "      <td>...</td>\n",
       "      <td>...</td>\n",
       "      <td>...</td>\n",
       "      <td>...</td>\n",
       "      <td>...</td>\n",
       "      <td>...</td>\n",
       "    </tr>\n",
       "    <tr>\n",
       "      <th>180</th>\n",
       "      <td>Intel Core i7</td>\n",
       "      <td>9750H</td>\n",
       "      <td>1024.0</td>\n",
       "      <td>nvidia 1600</td>\n",
       "      <td>8</td>\n",
       "      <td>0</td>\n",
       "      <td>2</td>\n",
       "      <td>{do-hoa-ky-thuat, laptop-gaming}</td>\n",
       "    </tr>\n",
       "    <tr>\n",
       "      <th>181</th>\n",
       "      <td>Intel Core i7</td>\n",
       "      <td>9750H</td>\n",
       "      <td>1024.0</td>\n",
       "      <td>nvidia 1600</td>\n",
       "      <td>8</td>\n",
       "      <td>1</td>\n",
       "      <td>3</td>\n",
       "      <td>{do-hoa-ky-thuat, laptop-gaming}</td>\n",
       "    </tr>\n",
       "    <tr>\n",
       "      <th>182</th>\n",
       "      <td>Intel Pentium</td>\n",
       "      <td>N5000</td>\n",
       "      <td>64.0</td>\n",
       "      <td>intel 600</td>\n",
       "      <td>0</td>\n",
       "      <td>1</td>\n",
       "      <td>1</td>\n",
       "      <td>{hoc-tap-van-phong}</td>\n",
       "    </tr>\n",
       "    <tr>\n",
       "      <th>183</th>\n",
       "      <td>i3</td>\n",
       "      <td>8145U</td>\n",
       "      <td>512.0</td>\n",
       "      <td>intel</td>\n",
       "      <td>0</td>\n",
       "      <td>1</td>\n",
       "      <td>2</td>\n",
       "      <td>{hoc-tap-van-phong}</td>\n",
       "    </tr>\n",
       "    <tr>\n",
       "      <th>184</th>\n",
       "      <td>i7</td>\n",
       "      <td>9750H</td>\n",
       "      <td>256.0</td>\n",
       "      <td>nvidia 1000</td>\n",
       "      <td>0</td>\n",
       "      <td>1</td>\n",
       "      <td>2</td>\n",
       "      <td>{do-hoa-ky-thuat, laptop-gaming}</td>\n",
       "    </tr>\n",
       "  </tbody>\n",
       "</table>\n",
       "<p>185 rows × 8 columns</p>\n",
       "</div>"
      ],
      "text/plain": [
       "          cpu_name  cpu_type    disk      graphic  ram  ssd  weight  \\\n",
       "0    AMD Quad Core  R5-3500U   256.0  nvidia 1000    0    1       0   \n",
       "1     AMD Ryzen™ 3     3200U   256.0          amd    0    1       0   \n",
       "2     AMD Ryzen™ 5     2500U  1024.0          amd    0    1       2   \n",
       "3     AMD Ryzen™ 5     3500U   256.0        intel    0    1       1   \n",
       "4     AMD Ryzen™ 5     3500U   256.0        intel    0    1       2   \n",
       "..             ...       ...     ...          ...  ...  ...     ...   \n",
       "180  Intel Core i7     9750H  1024.0  nvidia 1600    8    0       2   \n",
       "181  Intel Core i7     9750H  1024.0  nvidia 1600    8    1       3   \n",
       "182  Intel Pentium     N5000    64.0    intel 600    0    1       1   \n",
       "183             i3     8145U   512.0        intel    0    1       2   \n",
       "184             i7     9750H   256.0  nvidia 1000    0    1       2   \n",
       "\n",
       "                                 category  \n",
       "0                     {hoc-tap-van-phong}  \n",
       "1    {hoc-tap-van-phong, do-hoa-ky-thuat}  \n",
       "2                     {hoc-tap-van-phong}  \n",
       "3    {hoc-tap-van-phong, do-hoa-ky-thuat}  \n",
       "4                     {hoc-tap-van-phong}  \n",
       "..                                    ...  \n",
       "180      {do-hoa-ky-thuat, laptop-gaming}  \n",
       "181      {do-hoa-ky-thuat, laptop-gaming}  \n",
       "182                   {hoc-tap-van-phong}  \n",
       "183                   {hoc-tap-van-phong}  \n",
       "184      {do-hoa-ky-thuat, laptop-gaming}  \n",
       "\n",
       "[185 rows x 8 columns]"
      ]
     },
     "execution_count": 170,
     "metadata": {},
     "output_type": "execute_result"
    }
   ],
   "source": [
    "data_processed = UnitRemoverAndSimpler().fit_transform(data)\n",
    "data_processed"
   ]
  },
  {
   "cell_type": "code",
   "execution_count": 171,
   "metadata": {},
   "outputs": [
    {
     "data": {
      "image/png": "[encoded data removed]",
      "text/plain": [
       "<Figure size 1152x648 with 4 Axes>"
      ]
     },
     "metadata": {
      "needs_background": "light"
     },
     "output_type": "display_data"
    },
    {
     "data": {
      "image/png": "[encoded data removed]",
      "text/plain": [
       "<Figure size 432x288 with 1 Axes>"
      ]
     },
     "metadata": {
      "needs_background": "light"
     },
     "output_type": "display_data"
    }
   ],
   "source": [
    "data_processed.hist(figsize=(16,9))\n",
    "plt.show()\n",
    "\n",
    "data_processed['graphic'].hist()\n",
    "plt.xticks(rotation=90)\n",
    "plt.show()"
   ]
  },
  {
   "cell_type": "code",
   "execution_count": 172,
   "metadata": {},
   "outputs": [
    {
     "data": {
      "text/html": [
       "<div>\n",
       "<style scoped>\n",
       "    .dataframe tbody tr th:only-of-type {\n",
       "        vertical-align: middle;\n",
       "    }\n",
       "\n",
       "    .dataframe tbody tr th {\n",
       "        vertical-align: top;\n",
       "    }\n",
       "\n",
       "    .dataframe thead th {\n",
       "        text-align: right;\n",
       "    }\n",
       "</style>\n",
       "<table border=\"1\" class=\"dataframe\">\n",
       "  <thead>\n",
       "    <tr style=\"text-align: right;\">\n",
       "      <th></th>\n",
       "      <th>cpu_name</th>\n",
       "      <th>cpu_type</th>\n",
       "      <th>disk</th>\n",
       "      <th>graphic</th>\n",
       "      <th>ram</th>\n",
       "      <th>ssd</th>\n",
       "      <th>weight</th>\n",
       "      <th>category</th>\n",
       "    </tr>\n",
       "  </thead>\n",
       "  <tbody>\n",
       "    <tr>\n",
       "      <th>0</th>\n",
       "      <td>AMD Quad Core</td>\n",
       "      <td>R5-3500U</td>\n",
       "      <td>256.0</td>\n",
       "      <td>nvidia 1000</td>\n",
       "      <td>0</td>\n",
       "      <td>1</td>\n",
       "      <td>0</td>\n",
       "      <td>{hoc-tap-van-phong}</td>\n",
       "    </tr>\n",
       "    <tr>\n",
       "      <th>1</th>\n",
       "      <td>AMD Ryzen™ 3</td>\n",
       "      <td>3200U</td>\n",
       "      <td>256.0</td>\n",
       "      <td>amd</td>\n",
       "      <td>0</td>\n",
       "      <td>1</td>\n",
       "      <td>0</td>\n",
       "      <td>{hoc-tap-van-phong, do-hoa-ky-thuat}</td>\n",
       "    </tr>\n",
       "    <tr>\n",
       "      <th>2</th>\n",
       "      <td>AMD Ryzen™ 5</td>\n",
       "      <td>2500U</td>\n",
       "      <td>1024.0</td>\n",
       "      <td>amd</td>\n",
       "      <td>0</td>\n",
       "      <td>1</td>\n",
       "      <td>2</td>\n",
       "      <td>{hoc-tap-van-phong}</td>\n",
       "    </tr>\n",
       "    <tr>\n",
       "      <th>3</th>\n",
       "      <td>AMD Ryzen™ 5</td>\n",
       "      <td>3500U</td>\n",
       "      <td>256.0</td>\n",
       "      <td>intel</td>\n",
       "      <td>0</td>\n",
       "      <td>1</td>\n",
       "      <td>1</td>\n",
       "      <td>{hoc-tap-van-phong, do-hoa-ky-thuat}</td>\n",
       "    </tr>\n",
       "    <tr>\n",
       "      <th>4</th>\n",
       "      <td>AMD Ryzen™ 5</td>\n",
       "      <td>3500U</td>\n",
       "      <td>256.0</td>\n",
       "      <td>intel</td>\n",
       "      <td>0</td>\n",
       "      <td>1</td>\n",
       "      <td>2</td>\n",
       "      <td>{hoc-tap-van-phong}</td>\n",
       "    </tr>\n",
       "    <tr>\n",
       "      <th>...</th>\n",
       "      <td>...</td>\n",
       "      <td>...</td>\n",
       "      <td>...</td>\n",
       "      <td>...</td>\n",
       "      <td>...</td>\n",
       "      <td>...</td>\n",
       "      <td>...</td>\n",
       "      <td>...</td>\n",
       "    </tr>\n",
       "    <tr>\n",
       "      <th>180</th>\n",
       "      <td>Intel Core i7</td>\n",
       "      <td>9750H</td>\n",
       "      <td>1024.0</td>\n",
       "      <td>nvidia 1600</td>\n",
       "      <td>8</td>\n",
       "      <td>0</td>\n",
       "      <td>2</td>\n",
       "      <td>{do-hoa-ky-thuat, laptop-gaming}</td>\n",
       "    </tr>\n",
       "    <tr>\n",
       "      <th>181</th>\n",
       "      <td>Intel Core i7</td>\n",
       "      <td>9750H</td>\n",
       "      <td>1024.0</td>\n",
       "      <td>nvidia 1600</td>\n",
       "      <td>8</td>\n",
       "      <td>1</td>\n",
       "      <td>3</td>\n",
       "      <td>{do-hoa-ky-thuat, laptop-gaming}</td>\n",
       "    </tr>\n",
       "    <tr>\n",
       "      <th>182</th>\n",
       "      <td>Intel Pentium</td>\n",
       "      <td>N5000</td>\n",
       "      <td>64.0</td>\n",
       "      <td>intel 600</td>\n",
       "      <td>0</td>\n",
       "      <td>1</td>\n",
       "      <td>1</td>\n",
       "      <td>{hoc-tap-van-phong}</td>\n",
       "    </tr>\n",
       "    <tr>\n",
       "      <th>183</th>\n",
       "      <td>i3</td>\n",
       "      <td>8145U</td>\n",
       "      <td>512.0</td>\n",
       "      <td>intel</td>\n",
       "      <td>0</td>\n",
       "      <td>1</td>\n",
       "      <td>2</td>\n",
       "      <td>{hoc-tap-van-phong}</td>\n",
       "    </tr>\n",
       "    <tr>\n",
       "      <th>184</th>\n",
       "      <td>i7</td>\n",
       "      <td>9750H</td>\n",
       "      <td>256.0</td>\n",
       "      <td>nvidia 1000</td>\n",
       "      <td>0</td>\n",
       "      <td>1</td>\n",
       "      <td>2</td>\n",
       "      <td>{do-hoa-ky-thuat, laptop-gaming}</td>\n",
       "    </tr>\n",
       "  </tbody>\n",
       "</table>\n",
       "<p>185 rows × 8 columns</p>\n",
       "</div>"
      ],
      "text/plain": [
       "          cpu_name  cpu_type    disk      graphic  ram  ssd  weight  \\\n",
       "0    AMD Quad Core  R5-3500U   256.0  nvidia 1000    0    1       0   \n",
       "1     AMD Ryzen™ 3     3200U   256.0          amd    0    1       0   \n",
       "2     AMD Ryzen™ 5     2500U  1024.0          amd    0    1       2   \n",
       "3     AMD Ryzen™ 5     3500U   256.0        intel    0    1       1   \n",
       "4     AMD Ryzen™ 5     3500U   256.0        intel    0    1       2   \n",
       "..             ...       ...     ...          ...  ...  ...     ...   \n",
       "180  Intel Core i7     9750H  1024.0  nvidia 1600    8    0       2   \n",
       "181  Intel Core i7     9750H  1024.0  nvidia 1600    8    1       3   \n",
       "182  Intel Pentium     N5000    64.0    intel 600    0    1       1   \n",
       "183             i3     8145U   512.0        intel    0    1       2   \n",
       "184             i7     9750H   256.0  nvidia 1000    0    1       2   \n",
       "\n",
       "                                 category  \n",
       "0                     {hoc-tap-van-phong}  \n",
       "1    {hoc-tap-van-phong, do-hoa-ky-thuat}  \n",
       "2                     {hoc-tap-van-phong}  \n",
       "3    {hoc-tap-van-phong, do-hoa-ky-thuat}  \n",
       "4                     {hoc-tap-van-phong}  \n",
       "..                                    ...  \n",
       "180      {do-hoa-ky-thuat, laptop-gaming}  \n",
       "181      {do-hoa-ky-thuat, laptop-gaming}  \n",
       "182                   {hoc-tap-van-phong}  \n",
       "183                   {hoc-tap-van-phong}  \n",
       "184      {do-hoa-ky-thuat, laptop-gaming}  \n",
       "\n",
       "[185 rows x 8 columns]"
      ]
     },
     "execution_count": 172,
     "metadata": {},
     "output_type": "execute_result"
    }
   ],
   "source": [
    "data_processed"
   ]
  },
  {
   "cell_type": "markdown",
   "metadata": {},
   "source": [
    "### TRAIN DATA"
   ]
  },
  {
   "cell_type": "code",
   "execution_count": 173,
   "metadata": {},
   "outputs": [],
   "source": [
    "from sklearn.model_selection import train_test_split"
   ]
  },
  {
   "cell_type": "code",
   "execution_count": 174,
   "metadata": {},
   "outputs": [
    {
     "name": "stdout",
     "output_type": "stream",
     "text": [
      "(185, 7)\n",
      "(185, 3)\n"
     ]
    }
   ],
   "source": [
    "# dữ liệu không có nhãn huấn luyện\n",
    "X_df = data_processed.drop('category', axis=1)\n",
    "\n",
    "# cột nhãn (đã tiền xử lý chuỗi)\n",
    "Y_df = np.array(data_processed.category)\n",
    "binarier = MultiLabelBinarizer()\n",
    "Y_df = binarier.fit_transform(Y_df)\n",
    "\n",
    "print(X_df.shape)\n",
    "print(Y_df.shape)"
   ]
  },
  {
   "cell_type": "markdown",
   "metadata": {},
   "source": [
    "Tạo bộ test tỉ lệ 7:3"
   ]
  },
  {
   "cell_type": "code",
   "execution_count": 175,
   "metadata": {},
   "outputs": [],
   "source": [
    "(X_train, X_test, Y_train, Y_test) = train_test_split(X_df, Y_df, test_size=0.33)"
   ]
  },
  {
   "cell_type": "markdown",
   "metadata": {},
   "source": [
    "### THUẬT TOÁN\n",
    "\n",
    "Vì bài toán này, laptop sẽ có thể đồng thời nằm ở 2-3 phân lớp khác nên đây là bài toán `multi-class classification`\n",
    "\n",
    "Ta sẽ khảo sát **5** thuật toán multi-class:\n",
    "\n",
    "- `LinearRegression`\n",
    "\n",
    "- `LinearSVC`\n",
    "\n",
    "- `PassiveAggressiveClassifier`\n",
    "\n",
    "- `SGDClassifier`\n",
    "\n",
    "- `MultinomialNB`"
   ]
  },
  {
   "cell_type": "code",
   "execution_count": 183,
   "metadata": {},
   "outputs": [],
   "source": [
    "from sklearn.multiclass import OneVsRestClassifier\n",
    "from sklearn.linear_model import LinearRegression, SGDClassifier, PassiveAggressiveClassifier\n",
    "from sklearn.naive_bayes import MultinomialNB\n",
    "from sklearn.svm import LinearSVC"
   ]
  },
  {
   "cell_type": "markdown",
   "metadata": {},
   "source": [
    "### PIPELINE XỬ LÝ"
   ]
  },
  {
   "cell_type": "code",
   "execution_count": 188,
   "metadata": {},
   "outputs": [],
   "source": [
    "str_pipeline = make_pipeline(\n",
    "    make_column_transformer(\n",
    "        (OneHotEncoder(handle_unknown='ignore'), ['cpu_name', 'cpu_type', 'graphic']),\n",
    "        remainder='passthrough'\n",
    "    ),\n",
    ")\n",
    "\n",
    "preprocess = make_pipeline(\n",
    "    str_pipeline,\n",
    "    SimpleImputer(strategy='most_frequent')\n",
    ")"
   ]
  },
  {
   "cell_type": "code",
   "execution_count": 189,
   "metadata": {},
   "outputs": [],
   "source": [
    "model = Pipeline([\n",
    "    ('preprocess', preprocess),\n",
    "    ('ovr', OneVsRestClassifier(LinearRegression()))\n",
    "])"
   ]
  },
  {
   "cell_type": "markdown",
   "metadata": {},
   "source": [
    "### TA SẼ KHẢO SÁT ĐỘ LỖI TỪNG THUẬT TOÁN"
   ]
  },
  {
   "cell_type": "code",
   "execution_count": 194,
   "metadata": {},
   "outputs": [
    {
     "name": "stdout",
     "output_type": "stream",
     "text": [
      "0.11827956989247312\n",
      "LinearRegression\n"
     ]
    },
    {
     "name": "stderr",
     "output_type": "stream",
     "text": [
      "/home/noobcoder/0_Project/school/DataAnalyst/DACK/.venv/lib/python3.6/site-packages/sklearn/svm/_base.py:947: ConvergenceWarning: Liblinear failed to converge, increase the number of iterations.\n",
      "  \"the number of iterations.\", ConvergenceWarning)\n"
     ]
    }
   ],
   "source": [
    "algos = [\n",
    "    LinearRegression(),\n",
    "    LinearSVC(),\n",
    "    MultinomialNB(),\n",
    "    SGDClassifier(),\n",
    "    PassiveAggressiveClassifier(),\n",
    "]\n",
    "algo_names = list(map(lambda algo: type(algo).__name__, algos))\n",
    "\n",
    "best_algo = None\n",
    "best_test_error = float('inf')\n",
    "test_errs = []\n",
    "train_errs = []\n",
    "\n",
    "for algo in algos:\n",
    "    model.set_params(ovr__estimator=algo)\n",
    "    model.fit(X_train, Y_train)\n",
    "    \n",
    "    Y_pred_train = model.predict(X_train)\n",
    "    Y_pred_test = model.predict(X_test)\n",
    "    \n",
    "    train_err = np.mean(Y_pred_train != Y_train)\n",
    "    test_err = np.mean(Y_pred_test != Y_test)\n",
    "    \n",
    "    train_errs.append(train_err)\n",
    "    test_errs.append(test_err)\n",
    "    \n",
    "    if best_test_error > test_err:\n",
    "        best_test_error = test_err\n",
    "        best_algo = algo\n",
    "        \n",
    "print(best_test_error)\n",
    "print(type(best_algo).__name__)"
   ]
  },
  {
   "cell_type": "markdown",
   "metadata": {},
   "source": [
    "### KẾT QUẢ KHẢO SÁT"
   ]
  },
  {
   "cell_type": "code",
   "execution_count": 236,
   "metadata": {},
   "outputs": [
    {
     "data": {
      "image/png": "[encoded data removed]",
      "text/plain": [
       "<Figure size 432x288 with 1 Axes>"
      ]
     },
     "metadata": {
      "needs_background": "light"
     },
     "output_type": "display_data"
    }
   ],
   "source": [
    "plt.barh(algo_names, test_errs)\n",
    "plt.show()"
   ]
  },
  {
   "cell_type": "markdown",
   "metadata": {},
   "source": [
    "## KIỂM THỬ BẰNG TAY"
   ]
  },
  {
   "cell_type": "code",
   "execution_count": 226,
   "metadata": {},
   "outputs": [],
   "source": [
    "model.set_params(ovr__estimator=best_algo)\n",
    "model.fit(X_train, Y_train);"
   ]
  },
  {
   "cell_type": "code",
   "execution_count": 232,
   "metadata": {},
   "outputs": [
    {
     "data": {
      "text/html": [
       "<div>\n",
       "<style scoped>\n",
       "    .dataframe tbody tr th:only-of-type {\n",
       "        vertical-align: middle;\n",
       "    }\n",
       "\n",
       "    .dataframe tbody tr th {\n",
       "        vertical-align: top;\n",
       "    }\n",
       "\n",
       "    .dataframe thead th {\n",
       "        text-align: right;\n",
       "    }\n",
       "</style>\n",
       "<table border=\"1\" class=\"dataframe\">\n",
       "  <thead>\n",
       "    <tr style=\"text-align: right;\">\n",
       "      <th></th>\n",
       "      <th>cpu_name</th>\n",
       "      <th>cpu_type</th>\n",
       "      <th>disk</th>\n",
       "      <th>graphic</th>\n",
       "      <th>ram</th>\n",
       "      <th>ssd</th>\n",
       "      <th>weight</th>\n",
       "    </tr>\n",
       "  </thead>\n",
       "  <tbody>\n",
       "    <tr>\n",
       "      <th>0</th>\n",
       "      <td>intel core i5</td>\n",
       "      <td>6300HQ</td>\n",
       "      <td>1024</td>\n",
       "      <td>nvidia 950</td>\n",
       "      <td>8</td>\n",
       "      <td>1</td>\n",
       "      <td>2</td>\n",
       "    </tr>\n",
       "  </tbody>\n",
       "</table>\n",
       "</div>"
      ],
      "text/plain": [
       "        cpu_name cpu_type  disk     graphic  ram  ssd  weight\n",
       "0  intel core i5   6300HQ  1024  nvidia 950    8    1       2"
      ]
     },
     "execution_count": 232,
     "metadata": {},
     "output_type": "execute_result"
    }
   ],
   "source": [
    "# placeholder = data_processed.copy()\n",
    "sample = pd.DataFrame([{\n",
    "    'cpu_name': 'intel core i5',\n",
    "    'cpu_type': '6300HQ',\n",
    "    'disk': 1024, # 1TB\n",
    "    'ram': 8,\n",
    "    'ssd': 1,\n",
    "    'weight': 2,\n",
    "    'graphic': 'nvidia 950'\n",
    "}])\n",
    "sample = sample[X_df.columns]\n",
    "sample"
   ]
  },
  {
   "cell_type": "code",
   "execution_count": 235,
   "metadata": {},
   "outputs": [
    {
     "data": {
      "text/plain": [
       "[('do-hoa-ky-thuat', 'hoc-tap-van-phong')]"
      ]
     },
     "execution_count": 235,
     "metadata": {},
     "output_type": "execute_result"
    }
   ],
   "source": [
    "pred = model.predict(sample)\n",
    "binarier.inverse_transform(pred)"
   ]
  }
 ],
 "metadata": {
  "kernelspec": {
   "display_name": "Python 3",
   "language": "python",
   "name": "python3"
  },
  "language_info": {
   "codemirror_mode": {
    "name": "ipython",
    "version": 3
   },
   "file_extension": ".py",
   "mimetype": "text/x-python",
   "name": "python",
   "nbconvert_exporter": "python",
   "pygments_lexer": "ipython3",
   "version": "3.6.8"
  }
 },
 "nbformat": 4,
 "nbformat_minor": 4
}
