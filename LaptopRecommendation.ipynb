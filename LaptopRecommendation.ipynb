{
 "cells": [
  {
   "cell_type": "markdown",
   "metadata": {},
   "source": [
    "# ĐỀ XUẤT LAPTOP DỰA THEO NHU CẦU VÀ THÔNG TIN NGƯỜI DÙNG"
   ]
  },
  {
   "cell_type": "markdown",
   "metadata": {},
   "source": [
    "# MỤC TIÊU"
   ]
  },
  {
   "cell_type": "markdown",
   "metadata": {},
   "source": [
    "Ở đề tài này, chúng em sẽ tạo ra một Recommendation System, dựa vào dữ liệu laptop trên thị trường và các số điểm đánh giá. Để đề xuất một danh sách các laptop phù hợp, với input là 1 **phân loại** cho trước (văn phòng, gaming, ...) và một số thông tin của người dùng **(nghề nghiệp, ngành học)**"
   ]
  },
  {
   "cell_type": "markdown",
   "metadata": {},
   "source": [
    "# ỨNG DỤNG\n",
    "\n",
    "- Tắng tính hiệu quả trong việc chọn đối tượng của quảng cáo và tư vấn\n",
    "\n",
    "- Tăng hiệu quả tính năng tìm kiếm cho các trang bán laptop"
   ]
  },
  {
   "cell_type": "markdown",
   "metadata": {},
   "source": [
    "## TRAIN DATA"
   ]
  },
  {
   "cell_type": "markdown",
   "metadata": {},
   "source": [
    "Dữ liệu train sẽ được crawl từ 3 nguồn: \n",
    "\n",
    "- Tiki (tiki.vn)\n",
    "\n",
    "- Nguyễn Kim (nguyenkim.com)\n",
    "\n",
    "- Thế giới di động (thegioididong.com) "
   ]
  },
  {
   "cell_type": "code",
   "execution_count": 34,
   "metadata": {},
   "outputs": [],
   "source": [
    "%matplotlib inline\n",
    "import matplotlib.pyplot as plt  \n",
    "import pandas as pd\n",
    "import numpy as np\n",
    "from sklearn.pipeline import Pipeline, make_pipeline\n",
    "from sklearn.preprocessing import OneHotEncoder\n",
    "from sklearn.impute import SimpleImputer\n",
    "from sklearn.compose import ColumnTransformer\n",
    "from sklearn.cluster import KMeans\n",
    "from sklearn.base import TransformerMixin, BaseEstimator\n",
    "import re\n",
    "import math"
   ]
  },
  {
   "cell_type": "code",
   "execution_count": 35,
   "metadata": {},
   "outputs": [],
   "source": [
    "data = pd.read_csv('crawler/Merge.csv')"
   ]
  },
  {
   "cell_type": "markdown",
   "metadata": {},
   "source": [
    "### Dữ liệu bao gồm các cột:"
   ]
  },
  {
   "cell_type": "code",
   "execution_count": 36,
   "metadata": {},
   "outputs": [
    {
     "name": "stdout",
     "output_type": "stream",
     "text": [
      "<class 'pandas.core.frame.DataFrame'>\n",
      "RangeIndex: 1163 entries, 0 to 1162\n",
      "Data columns (total 11 columns):\n",
      "Brand         1163 non-null object\n",
      "CPU           769 non-null object\n",
      "Graphic       865 non-null object\n",
      "Name          1163 non-null object\n",
      "Price         1163 non-null int64\n",
      "RAM           877 non-null object\n",
      "SSD           1163 non-null int64\n",
      "Score_star    1163 non-null float64\n",
      "Type_CPU      829 non-null object\n",
      "Vote          1163 non-null int64\n",
      "Weight        722 non-null object\n",
      "dtypes: float64(1), int64(3), object(7)\n",
      "memory usage: 100.1+ KB\n"
     ]
    }
   ],
   "source": [
    "data.info()"
   ]
  },
  {
   "cell_type": "code",
   "execution_count": 37,
   "metadata": {},
   "outputs": [
    {
     "data": {
      "text/html": [
       "<div>\n",
       "<style scoped>\n",
       "    .dataframe tbody tr th:only-of-type {\n",
       "        vertical-align: middle;\n",
       "    }\n",
       "\n",
       "    .dataframe tbody tr th {\n",
       "        vertical-align: top;\n",
       "    }\n",
       "\n",
       "    .dataframe thead th {\n",
       "        text-align: right;\n",
       "    }\n",
       "</style>\n",
       "<table border=\"1\" class=\"dataframe\">\n",
       "  <thead>\n",
       "    <tr style=\"text-align: right;\">\n",
       "      <th></th>\n",
       "      <th>Brand</th>\n",
       "      <th>CPU</th>\n",
       "      <th>Graphic</th>\n",
       "      <th>Name</th>\n",
       "      <th>Price</th>\n",
       "      <th>RAM</th>\n",
       "      <th>SSD</th>\n",
       "      <th>Score_star</th>\n",
       "      <th>Type_CPU</th>\n",
       "      <th>Vote</th>\n",
       "      <th>Weight</th>\n",
       "    </tr>\n",
       "  </thead>\n",
       "  <tbody>\n",
       "    <tr>\n",
       "      <th>0</th>\n",
       "      <td>HP</td>\n",
       "      <td>Intel Core i3</td>\n",
       "      <td>Intel HD Graphics 620</td>\n",
       "      <td>Laptop HP 240 G7 (9FM95PA)</td>\n",
       "      <td>8990000</td>\n",
       "      <td>4 GB</td>\n",
       "      <td>0</td>\n",
       "      <td>4.9</td>\n",
       "      <td>7020U</td>\n",
       "      <td>10</td>\n",
       "      <td>NaN</td>\n",
       "    </tr>\n",
       "    <tr>\n",
       "      <th>1</th>\n",
       "      <td>Asus</td>\n",
       "      <td>NaN</td>\n",
       "      <td>NaN</td>\n",
       "      <td>Laptop Asus X409UA-EK092T</td>\n",
       "      <td>9390000</td>\n",
       "      <td>4 GB</td>\n",
       "      <td>0</td>\n",
       "      <td>4.4</td>\n",
       "      <td>NaN</td>\n",
       "      <td>10</td>\n",
       "      <td>1.6</td>\n",
       "    </tr>\n",
       "    <tr>\n",
       "      <th>2</th>\n",
       "      <td>Asus</td>\n",
       "      <td>Intel Core i5</td>\n",
       "      <td>Intel UHD Graphics 620</td>\n",
       "      <td>Laptop Asus X409FA (EK100T)</td>\n",
       "      <td>11590000</td>\n",
       "      <td>4 GB</td>\n",
       "      <td>0</td>\n",
       "      <td>4.5</td>\n",
       "      <td>8265U</td>\n",
       "      <td>10</td>\n",
       "      <td>1.6</td>\n",
       "    </tr>\n",
       "    <tr>\n",
       "      <th>3</th>\n",
       "      <td>HP</td>\n",
       "      <td>Core i5</td>\n",
       "      <td>Intel UHD Graphics 620</td>\n",
       "      <td>Laptop HP NoteBook 14S-CF1040TU (7PU14PA)</td>\n",
       "      <td>12990000</td>\n",
       "      <td>4 GB</td>\n",
       "      <td>0</td>\n",
       "      <td>4.6</td>\n",
       "      <td>8250U</td>\n",
       "      <td>10</td>\n",
       "      <td>NaN</td>\n",
       "    </tr>\n",
       "    <tr>\n",
       "      <th>4</th>\n",
       "      <td>HP</td>\n",
       "      <td>Intel Core i5</td>\n",
       "      <td>Intel HD Graphics 620</td>\n",
       "      <td>Laptop HP 348 G5 (7XU21PA)</td>\n",
       "      <td>13990000</td>\n",
       "      <td>4 GB</td>\n",
       "      <td>1</td>\n",
       "      <td>4.5</td>\n",
       "      <td>8265U</td>\n",
       "      <td>10</td>\n",
       "      <td>1.48</td>\n",
       "    </tr>\n",
       "  </tbody>\n",
       "</table>\n",
       "</div>"
      ],
      "text/plain": [
       "  Brand            CPU                 Graphic  \\\n",
       "0    HP  Intel Core i3   Intel HD Graphics 620   \n",
       "1  Asus            NaN                     NaN   \n",
       "2  Asus  Intel Core i5  Intel UHD Graphics 620   \n",
       "3    HP        Core i5  Intel UHD Graphics 620   \n",
       "4    HP  Intel Core i5   Intel HD Graphics 620   \n",
       "\n",
       "                                        Name     Price   RAM  SSD  Score_star  \\\n",
       "0                 Laptop HP 240 G7 (9FM95PA)   8990000  4 GB    0         4.9   \n",
       "1                  Laptop Asus X409UA-EK092T   9390000  4 GB    0         4.4   \n",
       "2                Laptop Asus X409FA (EK100T)  11590000  4 GB    0         4.5   \n",
       "3  Laptop HP NoteBook 14S-CF1040TU (7PU14PA)  12990000  4 GB    0         4.6   \n",
       "4                 Laptop HP 348 G5 (7XU21PA)  13990000  4 GB    1         4.5   \n",
       "\n",
       "  Type_CPU  Vote Weight  \n",
       "0    7020U    10    NaN  \n",
       "1      NaN    10    1.6  \n",
       "2    8265U    10    1.6  \n",
       "3    8250U    10    NaN  \n",
       "4    8265U    10   1.48  "
      ]
     },
     "execution_count": 37,
     "metadata": {},
     "output_type": "execute_result"
    }
   ],
   "source": [
    "data.head(5)"
   ]
  },
  {
   "cell_type": "markdown",
   "metadata": {},
   "source": [
    "## PHƯƠNG PHÁP ĐÁNH GIÁ VÀ CÁCH TIẾN HÀNH"
   ]
  },
  {
   "cell_type": "markdown",
   "metadata": {},
   "source": [
    "Chúng em sẽ chọn phương pháp **supervised learning** để phần loại (tự cho yếu tố phân loại) và đề xuất (**user-based recommendation**) dựa theo thông tin matching giữa người dùng và sản phẩm."
   ]
  },
  {
   "cell_type": "markdown",
   "metadata": {},
   "source": [
    "### Yếu tố phân loại"
   ]
  },
  {
   "cell_type": "markdown",
   "metadata": {},
   "source": [
    "Chúng em sẽ tạo 2 bảng heuristic để tính điểm cho mỗi sản phẩm - cột **points** là điểm sẽ tăng lên nếu sản phẩm match với **in** đã cho"
   ]
  },
  {
   "cell_type": "code",
   "execution_count": 38,
   "metadata": {},
   "outputs": [],
   "source": [
    "cate_points = pd.read_csv('categories_points.csv')\n",
    "major_points = pd.read_csv('major_points.csv')"
   ]
  },
  {
   "cell_type": "code",
   "execution_count": 39,
   "metadata": {},
   "outputs": [
    {
     "data": {
      "text/html": [
       "<div>\n",
       "<style scoped>\n",
       "    .dataframe tbody tr th:only-of-type {\n",
       "        vertical-align: middle;\n",
       "    }\n",
       "\n",
       "    .dataframe tbody tr th {\n",
       "        vertical-align: top;\n",
       "    }\n",
       "\n",
       "    .dataframe thead th {\n",
       "        text-align: right;\n",
       "    }\n",
       "</style>\n",
       "<table border=\"1\" class=\"dataframe\">\n",
       "  <thead>\n",
       "    <tr style=\"text-align: right;\">\n",
       "      <th></th>\n",
       "      <th>cate_id</th>\n",
       "      <th>name</th>\n",
       "      <th>field</th>\n",
       "      <th>in</th>\n",
       "      <th>points</th>\n",
       "    </tr>\n",
       "  </thead>\n",
       "  <tbody>\n",
       "    <tr>\n",
       "      <th>0</th>\n",
       "      <td>0</td>\n",
       "      <td>van_phong</td>\n",
       "      <td>Price</td>\n",
       "      <td>0,4000000</td>\n",
       "      <td>3</td>\n",
       "    </tr>\n",
       "    <tr>\n",
       "      <th>1</th>\n",
       "      <td>0</td>\n",
       "      <td>van_phong</td>\n",
       "      <td>Price</td>\n",
       "      <td>4000000,10000000</td>\n",
       "      <td>2</td>\n",
       "    </tr>\n",
       "    <tr>\n",
       "      <th>2</th>\n",
       "      <td>1</td>\n",
       "      <td>gaming</td>\n",
       "      <td>Graphic</td>\n",
       "      <td>nvidia,geforce,amd</td>\n",
       "      <td>3</td>\n",
       "    </tr>\n",
       "    <tr>\n",
       "      <th>3</th>\n",
       "      <td>1</td>\n",
       "      <td>gaming</td>\n",
       "      <td>RAM</td>\n",
       "      <td>8,16,32</td>\n",
       "      <td>2</td>\n",
       "    </tr>\n",
       "    <tr>\n",
       "      <th>4</th>\n",
       "      <td>1</td>\n",
       "      <td>gaming</td>\n",
       "      <td>RAM</td>\n",
       "      <td>4</td>\n",
       "      <td>1</td>\n",
       "    </tr>\n",
       "  </tbody>\n",
       "</table>\n",
       "</div>"
      ],
      "text/plain": [
       "   cate_id       name    field                  in  points\n",
       "0        0  van_phong    Price           0,4000000       3\n",
       "1        0  van_phong    Price    4000000,10000000       2\n",
       "2        1     gaming  Graphic  nvidia,geforce,amd       3\n",
       "3        1     gaming      RAM             8,16,32       2\n",
       "4        1     gaming      RAM                   4       1"
      ]
     },
     "execution_count": 39,
     "metadata": {},
     "output_type": "execute_result"
    }
   ],
   "source": [
    "cate_points.head()"
   ]
  },
  {
   "cell_type": "code",
   "execution_count": 40,
   "metadata": {},
   "outputs": [
    {
     "data": {
      "text/html": [
       "<div>\n",
       "<style scoped>\n",
       "    .dataframe tbody tr th:only-of-type {\n",
       "        vertical-align: middle;\n",
       "    }\n",
       "\n",
       "    .dataframe tbody tr th {\n",
       "        vertical-align: top;\n",
       "    }\n",
       "\n",
       "    .dataframe thead th {\n",
       "        text-align: right;\n",
       "    }\n",
       "</style>\n",
       "<table border=\"1\" class=\"dataframe\">\n",
       "  <thead>\n",
       "    <tr style=\"text-align: right;\">\n",
       "      <th></th>\n",
       "      <th>name</th>\n",
       "      <th>field</th>\n",
       "      <th>in</th>\n",
       "      <th>points</th>\n",
       "    </tr>\n",
       "  </thead>\n",
       "  <tbody>\n",
       "    <tr>\n",
       "      <th>0</th>\n",
       "      <td>IT</td>\n",
       "      <td>RAM</td>\n",
       "      <td>4,8,16</td>\n",
       "      <td>1</td>\n",
       "    </tr>\n",
       "    <tr>\n",
       "      <th>1</th>\n",
       "      <td>IT</td>\n",
       "      <td>Graphic</td>\n",
       "      <td>nvidia,geforce,amd</td>\n",
       "      <td>3</td>\n",
       "    </tr>\n",
       "  </tbody>\n",
       "</table>\n",
       "</div>"
      ],
      "text/plain": [
       "  name    field                  in  points\n",
       "0   IT      RAM              4,8,16       1\n",
       "1   IT  Graphic  nvidia,geforce,amd       3"
      ]
     },
     "execution_count": 40,
     "metadata": {},
     "output_type": "execute_result"
    }
   ],
   "source": [
    "major_points.head()"
   ]
  },
  {
   "cell_type": "markdown",
   "metadata": {},
   "source": [
    "### Thuật toán cần chọn\n",
    "\n",
    "> to be updating"
   ]
  },
  {
   "cell_type": "markdown",
   "metadata": {},
   "source": [
    "### Tiền xử lý"
   ]
  },
  {
   "cell_type": "markdown",
   "metadata": {},
   "source": [
    "1. Fill các giá trị trống"
   ]
  },
  {
   "cell_type": "code",
   "execution_count": 41,
   "metadata": {},
   "outputs": [],
   "source": [
    "fill_string = SimpleImputer(strategy='constant', fill_value='Unknown')\n",
    "\n",
    "preprocess: Pipeline = make_pipeline(\n",
    "    fill_string\n",
    ")"
   ]
  },
  {
   "cell_type": "markdown",
   "metadata": {},
   "source": [
    "2. Bỏ các chuỗi/đơn vị thừa"
   ]
  },
  {
   "cell_type": "code",
   "execution_count": 42,
   "metadata": {},
   "outputs": [],
   "source": [
    "class UnitRemoverAndGraphicSimpler(TransformerMixin):\n",
    "    columns: np.array\n",
    "        \n",
    "    def __init__(self, columns: np.array):\n",
    "        super()\n",
    "        self.columns = columns\n",
    "    \n",
    "    def fit(self, *_):\n",
    "        return self\n",
    "\n",
    "    @staticmethod\n",
    "    def ramConvert(ram):\n",
    "        ram_str = str(ram)\n",
    "        ram_str = re.sub(r'\\D', '', ram_str)\n",
    "        if ram_str == '':\n",
    "            return np.nan\n",
    "        return int(ram_str)\n",
    "    \n",
    "    @staticmethod\n",
    "    def weightConvert(weight):\n",
    "        weight_str = re.sub(',', '.', str(weight))\n",
    "        try:\n",
    "            return int( math.floor( float(weight_str)))\n",
    "        except ValueError:\n",
    "            return np.nan\n",
    "    \n",
    "    def transform(self, X_df: np.ndarray, *_) -> pd.DataFrame:\n",
    "        df = pd.DataFrame(X_df, columns=self.columns)\n",
    "        df['RAM'] = df['RAM'].apply(self.ramConvert)\n",
    "        df['Weight'] = df['Weight'].apply(self.weightConvert)\n",
    "        df['Graphic'] = df['Graphic'].apply(lambda g: g.split(' ')[0].lower())\n",
    "        df['Brand'] = df['Brand'].apply(lambda b: b.lower())\n",
    "        \n",
    "        return df"
   ]
  },
  {
   "cell_type": "markdown",
   "metadata": {},
   "source": [
    "3. Tính điểm"
   ]
  },
  {
   "cell_type": "code",
   "execution_count": 65,
   "metadata": {},
   "outputs": [],
   "source": [
    "class CalculatePoints(BaseEstimator, TransformerMixin):\n",
    "    point_data: pd.DataFrame\n",
    "    columns: np.array\n",
    "\n",
    "    def __init__(self, point_data: pd.DataFrame, columns):\n",
    "        super()\n",
    "        self.point_data = point_data\n",
    "        self.columns = columns\n",
    "        \n",
    "    def fit(self, *_):\n",
    "        return self\n",
    "    \n",
    "    def calcPrice(self, price: int) -> dict:\n",
    "        price_data: pd.DataFrame = self.point_data[self.point_data['field'] == 'Price']\n",
    "        point_out = dict()\n",
    "        for k, row in price_data.iterrows():\n",
    "            name = row['name']\n",
    "            val_in = row['in']\n",
    "            point = row['points']\n",
    "            [val_min, val_max] = val_in.split(',')\n",
    "            if int(val_min) <= price and int(val_max) >= price:\n",
    "                point += point_out.get(name, 0)\n",
    "                point_out[name] = point\n",
    "                \n",
    "        return point_out\n",
    "       \n",
    "    def calcInArray(self, value) -> dict:\n",
    "        point_out = dict()\n",
    "        for k, row in self.point_data.iterrows():\n",
    "            name = row['name']\n",
    "            val_in = row['in']\n",
    "            point = row['points']\n",
    "            array_val = val_in.split(',')\n",
    "            if value in array_val:\n",
    "                point += point_out.get(name, 0)\n",
    "                point_out[name] = point\n",
    "                \n",
    "        return point_out\n",
    "\n",
    "    def transform(self, data: np.ndarray):\n",
    "        point_names = self.point_data['name'].unique()\n",
    "        point_columns = self.point_data['field'].unique() \n",
    "        print(point_names)\n",
    "        \n",
    "        df = pd.DataFrame(data, columns=self.columns)\n",
    "        add_cols = dict()\n",
    "        \n",
    "        for col in point_columns:\n",
    "            func = {\n",
    "                \"Price\": self.calcPrice\n",
    "            }.get(col, self.calcInArray) # default\n",
    "\n",
    "            points = df[col].map(func)\n",
    "\n",
    "            if points is not None:\n",
    "                for idx, point in points.items():\n",
    "#                     add_cols = add_cols.add(point)\n",
    "                    \n",
    "#                     add_cols = { key: add_cols.get(key, 0) + point.get(key, 0) \n",
    "#                                 for key in set(add_cols) | set(point)  }\n",
    "# #                     print(f\"DEBUG: {idx} - {point}\")\n",
    "                    for k in point_names:\n",
    "                        old_arr = add_cols.get(k, [])\n",
    "                        if len(old_arr) <= idx:\n",
    "                            old_arr.append(point.get(k, 0))\n",
    "                        else:\n",
    "                            old_arr[idx] += point.get(k, 0)\n",
    "                        add_cols[k] = old_arr\n",
    "                        \n",
    "        return add_cols"
   ]
  },
  {
   "cell_type": "markdown",
   "metadata": {},
   "source": [
    "### Chuẩn hóa vào 1 pipeline"
   ]
  },
  {
   "cell_type": "code",
   "execution_count": 66,
   "metadata": {},
   "outputs": [],
   "source": [
    "pipeline = Pipeline([\n",
    "    ('preprocess', preprocess),\n",
    "    ('unit_remove', UnitRemoverAndGraphicSimpler(columns=data.columns)),\n",
    "    ('fill_nan', SimpleImputer(strategy='most_frequent')),\n",
    "    ('calc_point', CalculatePoints(point_data=major_points, columns=data.columns))\n",
    "])"
   ]
  },
  {
   "cell_type": "code",
   "execution_count": 67,
   "metadata": {},
   "outputs": [
    {
     "data": {
      "text/plain": [
       "Pipeline(memory=None,\n",
       "         steps=[('preprocess',\n",
       "                 Pipeline(memory=None,\n",
       "                          steps=[('simpleimputer',\n",
       "                                  SimpleImputer(add_indicator=False, copy=True,\n",
       "                                                fill_value='Unknown',\n",
       "                                                missing_values=nan,\n",
       "                                                strategy='constant',\n",
       "                                                verbose=0))],\n",
       "                          verbose=False)),\n",
       "                ('unit_remove',\n",
       "                 <__main__.UnitRemoverAndGraphicSimpler object at 0x7fb33b06e470>),\n",
       "                ('fill_nan',\n",
       "                 SimpleImputer(add_indicator=False, copy=True, fill_value=None,\n",
       "                               missing_values=nan, strategy='most_frequent',\n",
       "                               verbose=0)),\n",
       "                ('calc_point',\n",
       "                 CalculatePoints(columns=Index(['Brand', 'CPU', 'Graphic', 'Name', 'Price', 'RAM', 'SSD', 'Score_star',\n",
       "       'Type_CPU', 'Vote', 'Weight'],\n",
       "      dtype='object'),\n",
       "                                 point_data=  name    field                  in  points\n",
       "0   IT      RAM              4,8,16       1\n",
       "1   IT  Graphic  nvidia,geforce,amd       3))],\n",
       "         verbose=False)"
      ]
     },
     "execution_count": 67,
     "metadata": {},
     "output_type": "execute_result"
    }
   ],
   "source": [
    "pipeline.fit(data)\n",
    "# preprocess.fit(data)\n",
    "# preprocess.fit_transform(data)[0]\n",
    "# fill_string_pipeline.fit_transform(data)[0]"
   ]
  },
  {
   "cell_type": "markdown",
   "metadata": {},
   "source": [
    "### TRAIN DATA\n",
    "\n",
    "> updating"
   ]
  },
  {
   "cell_type": "code",
   "execution_count": 68,
   "metadata": {},
   "outputs": [
    {
     "name": "stdout",
     "output_type": "stream",
     "text": [
      "['IT']\n"
     ]
    }
   ],
   "source": [
    "# data.head(1)\n",
    "points = pipeline.transform(data)"
   ]
  },
  {
   "cell_type": "code",
   "execution_count": 69,
   "metadata": {},
   "outputs": [
    {
     "name": "stdout",
     "output_type": "stream",
     "text": [
      "(1163, 11)\n"
     ]
    }
   ],
   "source": [
    "# print(points)\n",
    "# print(len(points['van_phong']))\n",
    "print(data.shape)"
   ]
  },
  {
   "cell_type": "code",
   "execution_count": 70,
   "metadata": {},
   "outputs": [],
   "source": [
    "train_output = data.copy()\n",
    "for k, v in points.items():\n",
    "    train_output[f'{k}_points'] = pd.Series(v, index=train_output.index)\n",
    "    \n",
    "train_output.to_csv('points.csv', index=False)"
   ]
  },
  {
   "cell_type": "markdown",
   "metadata": {},
   "source": [
    "## KIỂM TRA VÀ DỰ ĐOÁN\n",
    "\n",
    "> updating"
   ]
  },
  {
   "cell_type": "code",
   "execution_count": 76,
   "metadata": {},
   "outputs": [
    {
     "data": {
      "text/html": [
       "<div>\n",
       "<style scoped>\n",
       "    .dataframe tbody tr th:only-of-type {\n",
       "        vertical-align: middle;\n",
       "    }\n",
       "\n",
       "    .dataframe tbody tr th {\n",
       "        vertical-align: top;\n",
       "    }\n",
       "\n",
       "    .dataframe thead th {\n",
       "        text-align: right;\n",
       "    }\n",
       "</style>\n",
       "<table border=\"1\" class=\"dataframe\">\n",
       "  <thead>\n",
       "    <tr style=\"text-align: right;\">\n",
       "      <th></th>\n",
       "      <th>Brand</th>\n",
       "      <th>CPU</th>\n",
       "      <th>Graphic</th>\n",
       "      <th>Name</th>\n",
       "      <th>Price</th>\n",
       "      <th>RAM</th>\n",
       "      <th>SSD</th>\n",
       "      <th>Score_star</th>\n",
       "      <th>Type_CPU</th>\n",
       "      <th>Vote</th>\n",
       "      <th>Weight</th>\n",
       "      <th>IT_points</th>\n",
       "    </tr>\n",
       "  </thead>\n",
       "  <tbody>\n",
       "    <tr>\n",
       "      <th>233</th>\n",
       "      <td>MSI</td>\n",
       "      <td>Intel Core i7</td>\n",
       "      <td>NVIDIA GeForce GTX 1050Ti 4GB GDDR5 + Intel UH...</td>\n",
       "      <td>Laptop MSI GF63 Thin 9RCX-645VN Core i7-9750H/...</td>\n",
       "      <td>22039000</td>\n",
       "      <td>8GB</td>\n",
       "      <td>1</td>\n",
       "      <td>5.0</td>\n",
       "      <td>9750H</td>\n",
       "      <td>4</td>\n",
       "      <td>1.86</td>\n",
       "      <td>3</td>\n",
       "    </tr>\n",
       "    <tr>\n",
       "      <th>288</th>\n",
       "      <td>Asus</td>\n",
       "      <td>Intel Core i5</td>\n",
       "      <td>NVIDIA GeForce MX150 + Intel UHD Graphics 620</td>\n",
       "      <td>Laptop Asus Vivobook S15 S530FN-BQ133T Core i5...</td>\n",
       "      <td>17219000</td>\n",
       "      <td>4GB</td>\n",
       "      <td>1</td>\n",
       "      <td>5.0</td>\n",
       "      <td>8265U</td>\n",
       "      <td>4</td>\n",
       "      <td>1.8</td>\n",
       "      <td>3</td>\n",
       "    </tr>\n",
       "    <tr>\n",
       "      <th>266</th>\n",
       "      <td>Asus</td>\n",
       "      <td>AMD Ryzen</td>\n",
       "      <td>NVIDIA GeForce GTX 1050 4GB GDDR5</td>\n",
       "      <td>Laptop Asus F570ZD-FY415T AMD R5-2500U/ GTX 10...</td>\n",
       "      <td>15190000</td>\n",
       "      <td>8GB</td>\n",
       "      <td>1</td>\n",
       "      <td>5.0</td>\n",
       "      <td>2500U</td>\n",
       "      <td>3</td>\n",
       "      <td>1.55</td>\n",
       "      <td>3</td>\n",
       "    </tr>\n",
       "    <tr>\n",
       "      <th>290</th>\n",
       "      <td>Asus</td>\n",
       "      <td>AMD Ryzen 7-3750H</td>\n",
       "      <td>NVIDIA GeForce GTX 1050</td>\n",
       "      <td>Laptop Asus TUF Gaming FX705DD-AU059T AMD R7-3...</td>\n",
       "      <td>22990000</td>\n",
       "      <td>8GB</td>\n",
       "      <td>1</td>\n",
       "      <td>5.0</td>\n",
       "      <td>3750H</td>\n",
       "      <td>3</td>\n",
       "      <td>2.6</td>\n",
       "      <td>3</td>\n",
       "    </tr>\n",
       "    <tr>\n",
       "      <th>296</th>\n",
       "      <td>Acer</td>\n",
       "      <td>Intel Core i7</td>\n",
       "      <td>NVIDIA GeForce GTX 1060</td>\n",
       "      <td>Laptop Acer Predator Helios 300 PH315-51-7533 ...</td>\n",
       "      <td>25149000</td>\n",
       "      <td>8GB</td>\n",
       "      <td>1</td>\n",
       "      <td>5.0</td>\n",
       "      <td>8750H</td>\n",
       "      <td>2</td>\n",
       "      <td>2.7</td>\n",
       "      <td>3</td>\n",
       "    </tr>\n",
       "    <tr>\n",
       "      <th>347</th>\n",
       "      <td>Acer</td>\n",
       "      <td>Intel Core i7</td>\n",
       "      <td>NVIDIA GeForce GTX1050Ti</td>\n",
       "      <td>Laptop Acer Nitro 5 AN515-52-75FT NH.Q3LSV.003...</td>\n",
       "      <td>22990000</td>\n",
       "      <td>8GB</td>\n",
       "      <td>1</td>\n",
       "      <td>5.0</td>\n",
       "      <td>8750H</td>\n",
       "      <td>2</td>\n",
       "      <td>2.7</td>\n",
       "      <td>3</td>\n",
       "    </tr>\n",
       "    <tr>\n",
       "      <th>271</th>\n",
       "      <td>MSI</td>\n",
       "      <td>NaN</td>\n",
       "      <td>NVIDIA GeForce GTX 1650 4GB GDDR5 with Max-Q D...</td>\n",
       "      <td>Laptop Gaming MSI GF63 Thin 9SC-070VN Core i7-...</td>\n",
       "      <td>24429000</td>\n",
       "      <td>8GB DDR4 2666MHz (2x SO-DIMM socket, up to 32G...</td>\n",
       "      <td>1</td>\n",
       "      <td>5.0</td>\n",
       "      <td>Intel Core i7-9750H (2.6GHz up to 4.5GHz 12MB)</td>\n",
       "      <td>1</td>\n",
       "      <td>1.86</td>\n",
       "      <td>3</td>\n",
       "    </tr>\n",
       "    <tr>\n",
       "      <th>275</th>\n",
       "      <td>Asus</td>\n",
       "      <td>AMD Ryzen 7-3750H</td>\n",
       "      <td>NVIDIA GeForce GTX 1660Ti</td>\n",
       "      <td>Laptop Asus ROG Zephyrus G GA502DU-AL024T AMD ...</td>\n",
       "      <td>28799000</td>\n",
       "      <td>8GB</td>\n",
       "      <td>1</td>\n",
       "      <td>5.0</td>\n",
       "      <td>3750H</td>\n",
       "      <td>1</td>\n",
       "      <td>2.1</td>\n",
       "      <td>3</td>\n",
       "    </tr>\n",
       "    <tr>\n",
       "      <th>289</th>\n",
       "      <td>Asus</td>\n",
       "      <td>NaN</td>\n",
       "      <td>Nvidia geforce MX250 2GB GDDR5 + Intel UHD Gra...</td>\n",
       "      <td>Laptop Asus Vivobook S531FL-BQ192T Core i7-856...</td>\n",
       "      <td>21749000</td>\n",
       "      <td>8GB DDR4 2400MHz</td>\n",
       "      <td>1</td>\n",
       "      <td>5.0</td>\n",
       "      <td>Intel Core i7-8565U (1.8GHz upto 4.6GHz, 4Core...</td>\n",
       "      <td>1</td>\n",
       "      <td>NaN</td>\n",
       "      <td>3</td>\n",
       "    </tr>\n",
       "    <tr>\n",
       "      <th>341</th>\n",
       "      <td>Asus</td>\n",
       "      <td>Intel Core i5</td>\n",
       "      <td>NVIDIA GeForce GTX 1050Ti + Intel UHD Graphics...</td>\n",
       "      <td>Laptop ASUS TUF Gaming FX505GE-BQ052T Core i5-...</td>\n",
       "      <td>21389000</td>\n",
       "      <td>8GB</td>\n",
       "      <td>1</td>\n",
       "      <td>5.0</td>\n",
       "      <td>8300H</td>\n",
       "      <td>1</td>\n",
       "      <td>2.2</td>\n",
       "      <td>3</td>\n",
       "    </tr>\n",
       "  </tbody>\n",
       "</table>\n",
       "</div>"
      ],
      "text/plain": [
       "    Brand                CPU  \\\n",
       "233   MSI      Intel Core i7   \n",
       "288  Asus      Intel Core i5   \n",
       "266  Asus          AMD Ryzen   \n",
       "290  Asus  AMD Ryzen 7-3750H   \n",
       "296  Acer      Intel Core i7   \n",
       "347  Acer      Intel Core i7   \n",
       "271   MSI                NaN   \n",
       "275  Asus  AMD Ryzen 7-3750H   \n",
       "289  Asus                NaN   \n",
       "341  Asus      Intel Core i5   \n",
       "\n",
       "                                               Graphic  \\\n",
       "233  NVIDIA GeForce GTX 1050Ti 4GB GDDR5 + Intel UH...   \n",
       "288      NVIDIA GeForce MX150 + Intel UHD Graphics 620   \n",
       "266                  NVIDIA GeForce GTX 1050 4GB GDDR5   \n",
       "290                            NVIDIA GeForce GTX 1050   \n",
       "296                            NVIDIA GeForce GTX 1060   \n",
       "347                           NVIDIA GeForce GTX1050Ti   \n",
       "271  NVIDIA GeForce GTX 1650 4GB GDDR5 with Max-Q D...   \n",
       "275                          NVIDIA GeForce GTX 1660Ti   \n",
       "289  Nvidia geforce MX250 2GB GDDR5 + Intel UHD Gra...   \n",
       "341  NVIDIA GeForce GTX 1050Ti + Intel UHD Graphics...   \n",
       "\n",
       "                                                  Name     Price  \\\n",
       "233  Laptop MSI GF63 Thin 9RCX-645VN Core i7-9750H/...  22039000   \n",
       "288  Laptop Asus Vivobook S15 S530FN-BQ133T Core i5...  17219000   \n",
       "266  Laptop Asus F570ZD-FY415T AMD R5-2500U/ GTX 10...  15190000   \n",
       "290  Laptop Asus TUF Gaming FX705DD-AU059T AMD R7-3...  22990000   \n",
       "296  Laptop Acer Predator Helios 300 PH315-51-7533 ...  25149000   \n",
       "347  Laptop Acer Nitro 5 AN515-52-75FT NH.Q3LSV.003...  22990000   \n",
       "271  Laptop Gaming MSI GF63 Thin 9SC-070VN Core i7-...  24429000   \n",
       "275  Laptop Asus ROG Zephyrus G GA502DU-AL024T AMD ...  28799000   \n",
       "289  Laptop Asus Vivobook S531FL-BQ192T Core i7-856...  21749000   \n",
       "341  Laptop ASUS TUF Gaming FX505GE-BQ052T Core i5-...  21389000   \n",
       "\n",
       "                                                   RAM  SSD  Score_star  \\\n",
       "233                                                8GB    1         5.0   \n",
       "288                                                4GB    1         5.0   \n",
       "266                                                8GB    1         5.0   \n",
       "290                                                8GB    1         5.0   \n",
       "296                                                8GB    1         5.0   \n",
       "347                                                8GB    1         5.0   \n",
       "271  8GB DDR4 2666MHz (2x SO-DIMM socket, up to 32G...    1         5.0   \n",
       "275                                                8GB    1         5.0   \n",
       "289                                   8GB DDR4 2400MHz    1         5.0   \n",
       "341                                                8GB    1         5.0   \n",
       "\n",
       "                                              Type_CPU  Vote Weight  IT_points  \n",
       "233                                              9750H     4   1.86          3  \n",
       "288                                              8265U     4    1.8          3  \n",
       "266                                              2500U     3   1.55          3  \n",
       "290                                              3750H     3    2.6          3  \n",
       "296                                              8750H     2    2.7          3  \n",
       "347                                              8750H     2    2.7          3  \n",
       "271     Intel Core i7-9750H (2.6GHz up to 4.5GHz 12MB)     1   1.86          3  \n",
       "275                                              3750H     1    2.1          3  \n",
       "289  Intel Core i7-8565U (1.8GHz upto 4.6GHz, 4Core...     1    NaN          3  \n",
       "341                                              8300H     1    2.2          3  "
      ]
     },
     "execution_count": 76,
     "metadata": {},
     "output_type": "execute_result"
    }
   ],
   "source": [
    "train_output.sort_values(by=['IT_points', 'Score_star', 'Vote'], ascending=False).head(10)"
   ]
  }
 ],
 "metadata": {
  "kernelspec": {
   "display_name": "Python 3",
   "language": "python",
   "name": "python3"
  },
  "language_info": {
   "codemirror_mode": {
    "name": "ipython",
    "version": 3
   },
   "file_extension": ".py",
   "mimetype": "text/x-python",
   "name": "python",
   "nbconvert_exporter": "python",
   "pygments_lexer": "ipython3",
   "version": "3.6.8"
  }
 },
 "nbformat": 4,
 "nbformat_minor": 4
}
